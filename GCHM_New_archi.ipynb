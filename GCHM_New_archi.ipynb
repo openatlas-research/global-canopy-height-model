{
  "nbformat": 4,
  "nbformat_minor": 0,
  "metadata": {
    "colab": {
      "provenance": [],
      "gpuType": "L4"
    },
    "kernelspec": {
      "name": "python3",
      "display_name": "Python 3"
    },
    "language_info": {
      "name": "python"
    },
    "accelerator": "GPU"
  },
  "cells": [
    {
      "cell_type": "markdown",
      "source": [
        "\n",
        "Here is the implementation of the **GCHM** model, complete with all the necessary functions. This shell script serves as the backbone for running the model. You can access everything via the following GDrive link: [GCHM_New_Archi](https://drive.google.com/drive/folders/1hNXEb6LdKN2QwD_VMlSGuphRrODkqYKy?usp=drive_link)\n",
        "\n",
        "### **Important Notes:**\n",
        "\n",
        "\n",
        "*  **GPU Required:** Make sure your system is equipped with a GPU to run the model effectively.\n",
        "\n",
        "*   **Folder Placement:** Once you download the folder, place it in /content/drive/MyDrive. It should work seamlessly from there. If you encounter any issues with file paths, you’ll need to modify them in the following files: *deploy.py, config.json, and ee_preprocess.py.*\n",
        "\n",
        "*   **Test Data:** You already have my previous test runs on the drive (Greece 2020 and Greece 2024), which can be visualized using QGIS.\n",
        "\n",
        "*   **GeoJSON Shape Requirements:**\n",
        "To run it on your AoI, just put the GeoJSON file, and adapt the path in config.json\n",
        "Ensure that your GeoJSON file defines a perfect square for the Area of Interest (AoI). If the shape isn’t square, the CNN will break due to issues with batch processing. To solve this, I usually select an AoI on geojson.io and ask ChatGPT to adjust it into a perfect square.\n",
        "\n",
        "\n",
        "\n",
        "\n",
        "\n",
        "\n",
        "\n"
      ],
      "metadata": {
        "id": "0TuWe09eGjs6"
      }
    },
    {
      "cell_type": "markdown",
      "source": [
        "Mount the drive to access the folder"
      ],
      "metadata": {
        "id": "pcpiHaivJe-n"
      }
    },
    {
      "cell_type": "code",
      "source": [
        "from google.colab import drive\n",
        "drive.mount('/content/drive')"
      ],
      "metadata": {
        "colab": {
          "base_uri": "https://localhost:8080/"
        },
        "id": "gTl8nVBvNfv_",
        "outputId": "80c26c3e-6d1e-469b-ae77-ba3a2f49c977"
      },
      "execution_count": 16,
      "outputs": [
        {
          "output_type": "stream",
          "name": "stdout",
          "text": [
            "Drive already mounted at /content/drive; to attempt to forcibly remount, call drive.mount(\"/content/drive\", force_remount=True).\n"
          ]
        }
      ]
    },
    {
      "cell_type": "markdown",
      "source": [
        "Install all the libraries required"
      ],
      "metadata": {
        "id": "_Rlr9pXUJkbm"
      }
    },
    {
      "cell_type": "code",
      "source": [
        "!pip install -r /content/drive/MyDrive/GCHM_New_Archi/requirements.txt"
      ],
      "metadata": {
        "colab": {
          "base_uri": "https://localhost:8080/"
        },
        "id": "gqVFj8-KNi6y",
        "outputId": "25b01db3-cea3-4c4a-81aa-8bb86e2bf576"
      },
      "execution_count": 1,
      "outputs": [
        {
          "output_type": "stream",
          "name": "stdout",
          "text": [
            "Requirement already satisfied: tables in /usr/local/lib/python3.11/dist-packages (from -r /content/drive/MyDrive/GCHM_New_Archi/requirements.txt (line 1)) (3.10.2)\n",
            "Requirement already satisfied: ipython in /usr/local/lib/python3.11/dist-packages (from -r /content/drive/MyDrive/GCHM_New_Archi/requirements.txt (line 2)) (7.34.0)\n",
            "Requirement already satisfied: matplotlib in /usr/local/lib/python3.11/dist-packages (from -r /content/drive/MyDrive/GCHM_New_Archi/requirements.txt (line 3)) (3.10.0)\n",
            "Requirement already satisfied: numpy in /usr/local/lib/python3.11/dist-packages (from -r /content/drive/MyDrive/GCHM_New_Archi/requirements.txt (line 4)) (1.26.4)\n",
            "Requirement already satisfied: wandb in /usr/local/lib/python3.11/dist-packages (from -r /content/drive/MyDrive/GCHM_New_Archi/requirements.txt (line 5)) (0.19.2)\n",
            "Requirement already satisfied: pathlib in /usr/local/lib/python3.11/dist-packages (from -r /content/drive/MyDrive/GCHM_New_Archi/requirements.txt (line 6)) (1.0.1)\n",
            "Requirement already satisfied: tqdm in /usr/local/lib/python3.11/dist-packages (from -r /content/drive/MyDrive/GCHM_New_Archi/requirements.txt (line 7)) (4.67.1)\n",
            "Requirement already satisfied: botocore in /usr/local/lib/python3.11/dist-packages (from -r /content/drive/MyDrive/GCHM_New_Archi/requirements.txt (line 8)) (1.36.5)\n",
            "Requirement already satisfied: urllib3 in /usr/local/lib/python3.11/dist-packages (from -r /content/drive/MyDrive/GCHM_New_Archi/requirements.txt (line 9)) (2.3.0)\n",
            "Requirement already satisfied: scikit-image in /usr/local/lib/python3.11/dist-packages (from -r /content/drive/MyDrive/GCHM_New_Archi/requirements.txt (line 10)) (0.25.0)\n",
            "Requirement already satisfied: typing in /usr/local/lib/python3.11/dist-packages (from -r /content/drive/MyDrive/GCHM_New_Archi/requirements.txt (line 11)) (3.7.4.3)\n",
            "Requirement already satisfied: scikit-learn in /usr/local/lib/python3.11/dist-packages (from -r /content/drive/MyDrive/GCHM_New_Archi/requirements.txt (line 12)) (1.6.0)\n",
            "Requirement already satisfied: tensorboard in /usr/local/lib/python3.11/dist-packages (from -r /content/drive/MyDrive/GCHM_New_Archi/requirements.txt (line 14)) (2.17.1)\n",
            "Requirement already satisfied: earthengine-api in /usr/local/lib/python3.11/dist-packages (from -r /content/drive/MyDrive/GCHM_New_Archi/requirements.txt (line 15)) (0.1.350)\n",
            "Requirement already satisfied: pandas in /usr/local/lib/python3.11/dist-packages (from -r /content/drive/MyDrive/GCHM_New_Archi/requirements.txt (line 16)) (2.2.2)\n",
            "Requirement already satisfied: geopandas in /usr/local/lib/python3.11/dist-packages (from -r /content/drive/MyDrive/GCHM_New_Archi/requirements.txt (line 17)) (1.0.1)\n",
            "Requirement already satisfied: rasterio in /usr/local/lib/python3.11/dist-packages (from -r /content/drive/MyDrive/GCHM_New_Archi/requirements.txt (line 18)) (1.4.3)\n",
            "Requirement already satisfied: shapely in /usr/local/lib/python3.11/dist-packages (from -r /content/drive/MyDrive/GCHM_New_Archi/requirements.txt (line 19)) (2.0.6)\n",
            "Requirement already satisfied: requests in /usr/local/lib/python3.11/dist-packages (from -r /content/drive/MyDrive/GCHM_New_Archi/requirements.txt (line 20)) (2.32.3)\n",
            "Requirement already satisfied: numexpr>=2.6.2 in /usr/local/lib/python3.11/dist-packages (from tables->-r /content/drive/MyDrive/GCHM_New_Archi/requirements.txt (line 1)) (2.10.2)\n",
            "Requirement already satisfied: packaging in /usr/local/lib/python3.11/dist-packages (from tables->-r /content/drive/MyDrive/GCHM_New_Archi/requirements.txt (line 1)) (24.2)\n",
            "Requirement already satisfied: py-cpuinfo in /usr/local/lib/python3.11/dist-packages (from tables->-r /content/drive/MyDrive/GCHM_New_Archi/requirements.txt (line 1)) (9.0.0)\n",
            "Requirement already satisfied: blosc2>=2.3.0 in /usr/local/lib/python3.11/dist-packages (from tables->-r /content/drive/MyDrive/GCHM_New_Archi/requirements.txt (line 1)) (3.0.0)\n",
            "Requirement already satisfied: typing-extensions>=4.4.0 in /usr/local/lib/python3.11/dist-packages (from tables->-r /content/drive/MyDrive/GCHM_New_Archi/requirements.txt (line 1)) (4.12.2)\n",
            "Requirement already satisfied: setuptools>=18.5 in /usr/local/lib/python3.11/dist-packages (from ipython->-r /content/drive/MyDrive/GCHM_New_Archi/requirements.txt (line 2)) (75.1.0)\n",
            "Requirement already satisfied: jedi>=0.16 in /usr/local/lib/python3.11/dist-packages (from ipython->-r /content/drive/MyDrive/GCHM_New_Archi/requirements.txt (line 2)) (0.19.2)\n",
            "Requirement already satisfied: decorator in /usr/local/lib/python3.11/dist-packages (from ipython->-r /content/drive/MyDrive/GCHM_New_Archi/requirements.txt (line 2)) (4.4.2)\n",
            "Requirement already satisfied: pickleshare in /usr/local/lib/python3.11/dist-packages (from ipython->-r /content/drive/MyDrive/GCHM_New_Archi/requirements.txt (line 2)) (0.7.5)\n",
            "Requirement already satisfied: traitlets>=4.2 in /usr/local/lib/python3.11/dist-packages (from ipython->-r /content/drive/MyDrive/GCHM_New_Archi/requirements.txt (line 2)) (5.7.1)\n",
            "Requirement already satisfied: prompt-toolkit!=3.0.0,!=3.0.1,<3.1.0,>=2.0.0 in /usr/local/lib/python3.11/dist-packages (from ipython->-r /content/drive/MyDrive/GCHM_New_Archi/requirements.txt (line 2)) (3.0.48)\n",
            "Requirement already satisfied: pygments in /usr/local/lib/python3.11/dist-packages (from ipython->-r /content/drive/MyDrive/GCHM_New_Archi/requirements.txt (line 2)) (2.18.0)\n",
            "Requirement already satisfied: backcall in /usr/local/lib/python3.11/dist-packages (from ipython->-r /content/drive/MyDrive/GCHM_New_Archi/requirements.txt (line 2)) (0.2.0)\n",
            "Requirement already satisfied: matplotlib-inline in /usr/local/lib/python3.11/dist-packages (from ipython->-r /content/drive/MyDrive/GCHM_New_Archi/requirements.txt (line 2)) (0.1.7)\n",
            "Requirement already satisfied: pexpect>4.3 in /usr/local/lib/python3.11/dist-packages (from ipython->-r /content/drive/MyDrive/GCHM_New_Archi/requirements.txt (line 2)) (4.9.0)\n",
            "Requirement already satisfied: contourpy>=1.0.1 in /usr/local/lib/python3.11/dist-packages (from matplotlib->-r /content/drive/MyDrive/GCHM_New_Archi/requirements.txt (line 3)) (1.3.1)\n",
            "Requirement already satisfied: cycler>=0.10 in /usr/local/lib/python3.11/dist-packages (from matplotlib->-r /content/drive/MyDrive/GCHM_New_Archi/requirements.txt (line 3)) (0.12.1)\n",
            "Requirement already satisfied: fonttools>=4.22.0 in /usr/local/lib/python3.11/dist-packages (from matplotlib->-r /content/drive/MyDrive/GCHM_New_Archi/requirements.txt (line 3)) (4.55.3)\n",
            "Requirement already satisfied: kiwisolver>=1.3.1 in /usr/local/lib/python3.11/dist-packages (from matplotlib->-r /content/drive/MyDrive/GCHM_New_Archi/requirements.txt (line 3)) (1.4.8)\n",
            "Requirement already satisfied: pillow>=8 in /usr/local/lib/python3.11/dist-packages (from matplotlib->-r /content/drive/MyDrive/GCHM_New_Archi/requirements.txt (line 3)) (11.1.0)\n",
            "Requirement already satisfied: pyparsing>=2.3.1 in /usr/local/lib/python3.11/dist-packages (from matplotlib->-r /content/drive/MyDrive/GCHM_New_Archi/requirements.txt (line 3)) (3.2.1)\n",
            "Requirement already satisfied: python-dateutil>=2.7 in /usr/local/lib/python3.11/dist-packages (from matplotlib->-r /content/drive/MyDrive/GCHM_New_Archi/requirements.txt (line 3)) (2.8.2)\n",
            "Requirement already satisfied: click!=8.0.0,>=7.1 in /usr/local/lib/python3.11/dist-packages (from wandb->-r /content/drive/MyDrive/GCHM_New_Archi/requirements.txt (line 5)) (8.1.8)\n",
            "Requirement already satisfied: docker-pycreds>=0.4.0 in /usr/local/lib/python3.11/dist-packages (from wandb->-r /content/drive/MyDrive/GCHM_New_Archi/requirements.txt (line 5)) (0.4.0)\n",
            "Requirement already satisfied: gitpython!=3.1.29,>=1.0.0 in /usr/local/lib/python3.11/dist-packages (from wandb->-r /content/drive/MyDrive/GCHM_New_Archi/requirements.txt (line 5)) (3.1.44)\n",
            "Requirement already satisfied: platformdirs in /usr/local/lib/python3.11/dist-packages (from wandb->-r /content/drive/MyDrive/GCHM_New_Archi/requirements.txt (line 5)) (4.3.6)\n",
            "Requirement already satisfied: protobuf!=4.21.0,!=5.28.0,<6,>=3.19.0 in /usr/local/lib/python3.11/dist-packages (from wandb->-r /content/drive/MyDrive/GCHM_New_Archi/requirements.txt (line 5)) (4.25.5)\n",
            "Requirement already satisfied: psutil>=5.0.0 in /usr/local/lib/python3.11/dist-packages (from wandb->-r /content/drive/MyDrive/GCHM_New_Archi/requirements.txt (line 5)) (5.9.5)\n",
            "Requirement already satisfied: pydantic<3,>=2.6 in /usr/local/lib/python3.11/dist-packages (from wandb->-r /content/drive/MyDrive/GCHM_New_Archi/requirements.txt (line 5)) (2.10.5)\n",
            "Requirement already satisfied: pyyaml in /usr/local/lib/python3.11/dist-packages (from wandb->-r /content/drive/MyDrive/GCHM_New_Archi/requirements.txt (line 5)) (6.0.2)\n",
            "Requirement already satisfied: sentry-sdk>=2.0.0 in /usr/local/lib/python3.11/dist-packages (from wandb->-r /content/drive/MyDrive/GCHM_New_Archi/requirements.txt (line 5)) (2.19.2)\n",
            "Requirement already satisfied: setproctitle in /usr/local/lib/python3.11/dist-packages (from wandb->-r /content/drive/MyDrive/GCHM_New_Archi/requirements.txt (line 5)) (1.3.4)\n",
            "Requirement already satisfied: jmespath<2.0.0,>=0.7.1 in /usr/local/lib/python3.11/dist-packages (from botocore->-r /content/drive/MyDrive/GCHM_New_Archi/requirements.txt (line 8)) (1.0.1)\n",
            "Requirement already satisfied: scipy>=1.11.2 in /usr/local/lib/python3.11/dist-packages (from scikit-image->-r /content/drive/MyDrive/GCHM_New_Archi/requirements.txt (line 10)) (1.13.1)\n",
            "Requirement already satisfied: networkx>=3.0 in /usr/local/lib/python3.11/dist-packages (from scikit-image->-r /content/drive/MyDrive/GCHM_New_Archi/requirements.txt (line 10)) (3.4.2)\n",
            "Requirement already satisfied: imageio!=2.35.0,>=2.33 in /usr/local/lib/python3.11/dist-packages (from scikit-image->-r /content/drive/MyDrive/GCHM_New_Archi/requirements.txt (line 10)) (2.36.1)\n",
            "Requirement already satisfied: tifffile>=2022.8.12 in /usr/local/lib/python3.11/dist-packages (from scikit-image->-r /content/drive/MyDrive/GCHM_New_Archi/requirements.txt (line 10)) (2024.12.12)\n",
            "Requirement already satisfied: lazy-loader>=0.4 in /usr/local/lib/python3.11/dist-packages (from scikit-image->-r /content/drive/MyDrive/GCHM_New_Archi/requirements.txt (line 10)) (0.4)\n",
            "Requirement already satisfied: joblib>=1.2.0 in /usr/local/lib/python3.11/dist-packages (from scikit-learn->-r /content/drive/MyDrive/GCHM_New_Archi/requirements.txt (line 12)) (1.4.2)\n",
            "Requirement already satisfied: threadpoolctl>=3.1.0 in /usr/local/lib/python3.11/dist-packages (from scikit-learn->-r /content/drive/MyDrive/GCHM_New_Archi/requirements.txt (line 12)) (3.5.0)\n",
            "Requirement already satisfied: absl-py>=0.4 in /usr/local/lib/python3.11/dist-packages (from tensorboard->-r /content/drive/MyDrive/GCHM_New_Archi/requirements.txt (line 14)) (1.4.0)\n",
            "Requirement already satisfied: grpcio>=1.48.2 in /usr/local/lib/python3.11/dist-packages (from tensorboard->-r /content/drive/MyDrive/GCHM_New_Archi/requirements.txt (line 14)) (1.69.0)\n",
            "Requirement already satisfied: markdown>=2.6.8 in /usr/local/lib/python3.11/dist-packages (from tensorboard->-r /content/drive/MyDrive/GCHM_New_Archi/requirements.txt (line 14)) (3.7)\n",
            "Requirement already satisfied: six>1.9 in /usr/local/lib/python3.11/dist-packages (from tensorboard->-r /content/drive/MyDrive/GCHM_New_Archi/requirements.txt (line 14)) (1.17.0)\n",
            "Requirement already satisfied: tensorboard-data-server<0.8.0,>=0.7.0 in /usr/local/lib/python3.11/dist-packages (from tensorboard->-r /content/drive/MyDrive/GCHM_New_Archi/requirements.txt (line 14)) (0.7.2)\n",
            "Requirement already satisfied: werkzeug>=1.0.1 in /usr/local/lib/python3.11/dist-packages (from tensorboard->-r /content/drive/MyDrive/GCHM_New_Archi/requirements.txt (line 14)) (3.1.3)\n",
            "Requirement already satisfied: google-cloud-storage in /usr/local/lib/python3.11/dist-packages (from earthengine-api->-r /content/drive/MyDrive/GCHM_New_Archi/requirements.txt (line 15)) (2.19.0)\n",
            "Requirement already satisfied: google-api-python-client>=1.12.1 in /usr/local/lib/python3.11/dist-packages (from earthengine-api->-r /content/drive/MyDrive/GCHM_New_Archi/requirements.txt (line 15)) (2.155.0)\n",
            "Requirement already satisfied: google-auth>=1.4.1 in /usr/local/lib/python3.11/dist-packages (from earthengine-api->-r /content/drive/MyDrive/GCHM_New_Archi/requirements.txt (line 15)) (2.27.0)\n",
            "Requirement already satisfied: google-auth-httplib2>=0.0.3 in /usr/local/lib/python3.11/dist-packages (from earthengine-api->-r /content/drive/MyDrive/GCHM_New_Archi/requirements.txt (line 15)) (0.2.0)\n",
            "Requirement already satisfied: httplib2<1dev,>=0.9.2 in /usr/local/lib/python3.11/dist-packages (from earthengine-api->-r /content/drive/MyDrive/GCHM_New_Archi/requirements.txt (line 15)) (0.22.0)\n",
            "Requirement already satisfied: pytz>=2020.1 in /usr/local/lib/python3.11/dist-packages (from pandas->-r /content/drive/MyDrive/GCHM_New_Archi/requirements.txt (line 16)) (2024.2)\n",
            "Requirement already satisfied: tzdata>=2022.7 in /usr/local/lib/python3.11/dist-packages (from pandas->-r /content/drive/MyDrive/GCHM_New_Archi/requirements.txt (line 16)) (2024.2)\n",
            "Requirement already satisfied: pyogrio>=0.7.2 in /usr/local/lib/python3.11/dist-packages (from geopandas->-r /content/drive/MyDrive/GCHM_New_Archi/requirements.txt (line 17)) (0.10.0)\n",
            "Requirement already satisfied: pyproj>=3.3.0 in /usr/local/lib/python3.11/dist-packages (from geopandas->-r /content/drive/MyDrive/GCHM_New_Archi/requirements.txt (line 17)) (3.7.0)\n",
            "Requirement already satisfied: affine in /usr/local/lib/python3.11/dist-packages (from rasterio->-r /content/drive/MyDrive/GCHM_New_Archi/requirements.txt (line 18)) (2.4.0)\n",
            "Requirement already satisfied: attrs in /usr/local/lib/python3.11/dist-packages (from rasterio->-r /content/drive/MyDrive/GCHM_New_Archi/requirements.txt (line 18)) (24.3.0)\n",
            "Requirement already satisfied: certifi in /usr/local/lib/python3.11/dist-packages (from rasterio->-r /content/drive/MyDrive/GCHM_New_Archi/requirements.txt (line 18)) (2024.12.14)\n",
            "Requirement already satisfied: cligj>=0.5 in /usr/local/lib/python3.11/dist-packages (from rasterio->-r /content/drive/MyDrive/GCHM_New_Archi/requirements.txt (line 18)) (0.7.2)\n",
            "Requirement already satisfied: click-plugins in /usr/local/lib/python3.11/dist-packages (from rasterio->-r /content/drive/MyDrive/GCHM_New_Archi/requirements.txt (line 18)) (1.1.1)\n",
            "Requirement already satisfied: charset-normalizer<4,>=2 in /usr/local/lib/python3.11/dist-packages (from requests->-r /content/drive/MyDrive/GCHM_New_Archi/requirements.txt (line 20)) (3.4.1)\n",
            "Requirement already satisfied: idna<4,>=2.5 in /usr/local/lib/python3.11/dist-packages (from requests->-r /content/drive/MyDrive/GCHM_New_Archi/requirements.txt (line 20)) (3.10)\n",
            "Requirement already satisfied: ndindex in /usr/local/lib/python3.11/dist-packages (from blosc2>=2.3.0->tables->-r /content/drive/MyDrive/GCHM_New_Archi/requirements.txt (line 1)) (1.9.2)\n",
            "Requirement already satisfied: msgpack in /usr/local/lib/python3.11/dist-packages (from blosc2>=2.3.0->tables->-r /content/drive/MyDrive/GCHM_New_Archi/requirements.txt (line 1)) (1.1.0)\n",
            "Requirement already satisfied: httpx in /usr/local/lib/python3.11/dist-packages (from blosc2>=2.3.0->tables->-r /content/drive/MyDrive/GCHM_New_Archi/requirements.txt (line 1)) (0.28.1)\n",
            "Requirement already satisfied: gitdb<5,>=4.0.1 in /usr/local/lib/python3.11/dist-packages (from gitpython!=3.1.29,>=1.0.0->wandb->-r /content/drive/MyDrive/GCHM_New_Archi/requirements.txt (line 5)) (4.0.12)\n",
            "Requirement already satisfied: google-api-core!=2.0.*,!=2.1.*,!=2.2.*,!=2.3.0,<3.0.0.dev0,>=1.31.5 in /usr/local/lib/python3.11/dist-packages (from google-api-python-client>=1.12.1->earthengine-api->-r /content/drive/MyDrive/GCHM_New_Archi/requirements.txt (line 15)) (2.19.2)\n",
            "Requirement already satisfied: uritemplate<5,>=3.0.1 in /usr/local/lib/python3.11/dist-packages (from google-api-python-client>=1.12.1->earthengine-api->-r /content/drive/MyDrive/GCHM_New_Archi/requirements.txt (line 15)) (4.1.1)\n",
            "Requirement already satisfied: cachetools<6.0,>=2.0.0 in /usr/local/lib/python3.11/dist-packages (from google-auth>=1.4.1->earthengine-api->-r /content/drive/MyDrive/GCHM_New_Archi/requirements.txt (line 15)) (5.5.0)\n",
            "Requirement already satisfied: pyasn1-modules>=0.2.1 in /usr/local/lib/python3.11/dist-packages (from google-auth>=1.4.1->earthengine-api->-r /content/drive/MyDrive/GCHM_New_Archi/requirements.txt (line 15)) (0.4.1)\n",
            "Requirement already satisfied: rsa<5,>=3.1.4 in /usr/local/lib/python3.11/dist-packages (from google-auth>=1.4.1->earthengine-api->-r /content/drive/MyDrive/GCHM_New_Archi/requirements.txt (line 15)) (4.9)\n",
            "Requirement already satisfied: parso<0.9.0,>=0.8.4 in /usr/local/lib/python3.11/dist-packages (from jedi>=0.16->ipython->-r /content/drive/MyDrive/GCHM_New_Archi/requirements.txt (line 2)) (0.8.4)\n",
            "Requirement already satisfied: ptyprocess>=0.5 in /usr/local/lib/python3.11/dist-packages (from pexpect>4.3->ipython->-r /content/drive/MyDrive/GCHM_New_Archi/requirements.txt (line 2)) (0.7.0)\n",
            "Requirement already satisfied: wcwidth in /usr/local/lib/python3.11/dist-packages (from prompt-toolkit!=3.0.0,!=3.0.1,<3.1.0,>=2.0.0->ipython->-r /content/drive/MyDrive/GCHM_New_Archi/requirements.txt (line 2)) (0.2.13)\n",
            "Requirement already satisfied: annotated-types>=0.6.0 in /usr/local/lib/python3.11/dist-packages (from pydantic<3,>=2.6->wandb->-r /content/drive/MyDrive/GCHM_New_Archi/requirements.txt (line 5)) (0.7.0)\n",
            "Requirement already satisfied: pydantic-core==2.27.2 in /usr/local/lib/python3.11/dist-packages (from pydantic<3,>=2.6->wandb->-r /content/drive/MyDrive/GCHM_New_Archi/requirements.txt (line 5)) (2.27.2)\n",
            "Requirement already satisfied: MarkupSafe>=2.1.1 in /usr/local/lib/python3.11/dist-packages (from werkzeug>=1.0.1->tensorboard->-r /content/drive/MyDrive/GCHM_New_Archi/requirements.txt (line 14)) (3.0.2)\n",
            "Requirement already satisfied: google-cloud-core<3.0dev,>=2.3.0 in /usr/local/lib/python3.11/dist-packages (from google-cloud-storage->earthengine-api->-r /content/drive/MyDrive/GCHM_New_Archi/requirements.txt (line 15)) (2.4.1)\n",
            "Requirement already satisfied: google-resumable-media>=2.7.2 in /usr/local/lib/python3.11/dist-packages (from google-cloud-storage->earthengine-api->-r /content/drive/MyDrive/GCHM_New_Archi/requirements.txt (line 15)) (2.7.2)\n",
            "Requirement already satisfied: google-crc32c<2.0dev,>=1.0 in /usr/local/lib/python3.11/dist-packages (from google-cloud-storage->earthengine-api->-r /content/drive/MyDrive/GCHM_New_Archi/requirements.txt (line 15)) (1.6.0)\n",
            "Requirement already satisfied: smmap<6,>=3.0.1 in /usr/local/lib/python3.11/dist-packages (from gitdb<5,>=4.0.1->gitpython!=3.1.29,>=1.0.0->wandb->-r /content/drive/MyDrive/GCHM_New_Archi/requirements.txt (line 5)) (5.0.2)\n",
            "Requirement already satisfied: googleapis-common-protos<2.0.dev0,>=1.56.2 in /usr/local/lib/python3.11/dist-packages (from google-api-core!=2.0.*,!=2.1.*,!=2.2.*,!=2.3.0,<3.0.0.dev0,>=1.31.5->google-api-python-client>=1.12.1->earthengine-api->-r /content/drive/MyDrive/GCHM_New_Archi/requirements.txt (line 15)) (1.66.0)\n",
            "Requirement already satisfied: proto-plus<2.0.0dev,>=1.22.3 in /usr/local/lib/python3.11/dist-packages (from google-api-core!=2.0.*,!=2.1.*,!=2.2.*,!=2.3.0,<3.0.0.dev0,>=1.31.5->google-api-python-client>=1.12.1->earthengine-api->-r /content/drive/MyDrive/GCHM_New_Archi/requirements.txt (line 15)) (1.25.0)\n",
            "Requirement already satisfied: pyasn1<0.7.0,>=0.4.6 in /usr/local/lib/python3.11/dist-packages (from pyasn1-modules>=0.2.1->google-auth>=1.4.1->earthengine-api->-r /content/drive/MyDrive/GCHM_New_Archi/requirements.txt (line 15)) (0.6.1)\n",
            "Requirement already satisfied: anyio in /usr/local/lib/python3.11/dist-packages (from httpx->blosc2>=2.3.0->tables->-r /content/drive/MyDrive/GCHM_New_Archi/requirements.txt (line 1)) (3.7.1)\n",
            "Requirement already satisfied: httpcore==1.* in /usr/local/lib/python3.11/dist-packages (from httpx->blosc2>=2.3.0->tables->-r /content/drive/MyDrive/GCHM_New_Archi/requirements.txt (line 1)) (1.0.7)\n",
            "Requirement already satisfied: h11<0.15,>=0.13 in /usr/local/lib/python3.11/dist-packages (from httpcore==1.*->httpx->blosc2>=2.3.0->tables->-r /content/drive/MyDrive/GCHM_New_Archi/requirements.txt (line 1)) (0.14.0)\n",
            "Requirement already satisfied: sniffio>=1.1 in /usr/local/lib/python3.11/dist-packages (from anyio->httpx->blosc2>=2.3.0->tables->-r /content/drive/MyDrive/GCHM_New_Archi/requirements.txt (line 1)) (1.3.1)\n"
          ]
        }
      ]
    },
    {
      "cell_type": "markdown",
      "source": [
        "Connect to Earth Engine ! You’ll also need to set up your Earth Engine project and API credentials. Alternatively, you can use mine: /content/drive/MyDrive/GCHM_New_Archi/ee-crampemarc-fe52ce4721a3.json."
      ],
      "metadata": {
        "id": "8gFkyMyeJolz"
      }
    },
    {
      "cell_type": "code",
      "source": [
        "!earthengine authenticate"
      ],
      "metadata": {
        "colab": {
          "base_uri": "https://localhost:8080/"
        },
        "id": "Ze0gFL2QT2hw",
        "outputId": "e4dea600-1762-41b2-8939-1b18819c652f"
      },
      "execution_count": 17,
      "outputs": [
        {
          "output_type": "stream",
          "name": "stdout",
          "text": [
            "To authorize access needed by Earth Engine, open the following URL in a web browser and follow the instructions. If the web browser does not start automatically, please manually browse the URL below.\n",
            "\n",
            "    https://code.earthengine.google.com/client-auth?scopes=https%3A//www.googleapis.com/auth/earthengine%20https%3A//www.googleapis.com/auth/devstorage.full_control&request_id=3SQQYkv0Cm4bVWUHZm_tQsXXd8xUP3Xxx2VhSG7jjvE&tc=BSHFbLaUHVAKkszS9GwJ5K5bg3Dh6JqQEbz46ijvVIM&cc=wYQNzZoLsnKYtRU6bG6S0FZSRO8jXMbB9Q0uGttk1Ko\n",
            "\n",
            "The authorization workflow will generate a code, which you should paste in the box below.\n",
            "Enter verification code: 4/1ASVgi3LkOV9b1pya722Qq5HKorREUWn0_Pi3gOIXhBewBj91RA1RTSD963U\n",
            "\n",
            "Successfully saved authorization token.\n"
          ]
        }
      ]
    },
    {
      "cell_type": "markdown",
      "source": [
        "This part download the GeoTIF from GEE, on your selected AoI and dates in *config.json*"
      ],
      "metadata": {
        "id": "BAoAWz6DnBvi"
      }
    },
    {
      "cell_type": "code",
      "source": [
        "%%bash\n",
        "\n",
        "CONFIG_PATH=\"/content/drive/MyDrive/GCHM_New_Archi/config.json\"\n",
        "GEE_SCRIPT=\"/content/drive/MyDrive/GCHM_New_Archi/ee_preprocess.py\"\n",
        "\n",
        "echo \"Running the GEE export process...\"\n",
        "python3 \"$GEE_SCRIPT\" --config \"$CONFIG_PATH\"\n",
        "\n",
        "# Vérifier si le script GEE a réussi\n",
        "if [ $? -ne 0 ]; then\n",
        "  echo \"GEE script failed. Exiting...\"\n",
        "  exit 1\n",
        "fi\n",
        "\n",
        "echo \"All images have been successfully exported from GEE!\""
      ],
      "metadata": {
        "colab": {
          "base_uri": "https://localhost:8080/"
        },
        "id": "XjDilAc0m9P1",
        "outputId": "49791836-0856-46e6-b45b-065170b41b3b"
      },
      "execution_count": 50,
      "outputs": [
        {
          "output_type": "stream",
          "name": "stdout",
          "text": [
            "Running the GEE export process...\n",
            "Exporting Greece_2020-06-01...\n",
            "Exporting Greece_2020-06-01...\n",
            "Exporting Greece_2020-06-01...\n",
            "Exporting Greece_2020-06-01...\n",
            "Exporting Greece_2020-06-01...\n",
            "Exporting Greece_2020-06-01...\n",
            "Exporting Greece_2020-06-01...\n",
            "Exporting Greece_2020-06-01...\n",
            "Exporting Greece_2020-06-01...\n",
            "Exporting Greece_2020-06-01...\n",
            "Exporting Greece_2020-06-01...\n",
            "Exporting Greece_2020-06-01...\n",
            "Exporting Greece_2020-06-01...\n",
            "Exporting Greece_2020-06-01...\n",
            "Exporting Greece_2020-06-01...\n",
            "Exporting Greece_2020-06-01...\n",
            "Exporting Greece_2020-06-01...\n",
            "Exporting Greece_2020-06-01...\n",
            "Exporting Greece_2020-06-01...\n",
            "Exporting Greece_2020-06-01...\n",
            "Exporting Greece_2020-06-01...\n",
            "Exporting Greece_2020-06-01...\n",
            "Exporting Greece_2020-06-01...\n",
            "Export of Greece_2020-06-01 completed.\n",
            "Image is saved in Google Drive at: Dataset_GEE_TIF/Greece_2020-06-01.tif\n",
            "Exporting Greece_2024-06-01...\n",
            "Exporting Greece_2024-06-01...\n",
            "Exporting Greece_2024-06-01...\n",
            "Exporting Greece_2024-06-01...\n",
            "Exporting Greece_2024-06-01...\n",
            "Exporting Greece_2024-06-01...\n",
            "Exporting Greece_2024-06-01...\n",
            "Exporting Greece_2024-06-01...\n",
            "Exporting Greece_2024-06-01...\n",
            "Exporting Greece_2024-06-01...\n",
            "Exporting Greece_2024-06-01...\n",
            "Exporting Greece_2024-06-01...\n",
            "Exporting Greece_2024-06-01...\n",
            "Exporting Greece_2024-06-01...\n",
            "Exporting Greece_2024-06-01...\n",
            "Exporting Greece_2024-06-01...\n",
            "Exporting Greece_2024-06-01...\n",
            "Export of Greece_2024-06-01 completed.\n",
            "Image is saved in Google Drive at: Dataset_GEE_TIF/Greece_2024-06-01.tif\n",
            "Process completed.\n",
            "All images have been successfully exported from GEE!\n"
          ]
        }
      ]
    },
    {
      "cell_type": "markdown",
      "source": [
        "Run the GCHM model trough your GeoTIF you just downloaded"
      ],
      "metadata": {
        "id": "pqn4He8HnD95"
      }
    },
    {
      "cell_type": "code",
      "source": [
        "%%bash\n",
        "\n",
        "GCHM_MODEL_DIR=\"/content/drive/MyDrive/GCHM_New_Archi/trained_models/GLOBAL_GEDI_2019_2020\"\n",
        "DEPLOY_IMAGE_PATH=\"/content/drive/MyDrive/GCHM_New_Archi/Dataset_GEE_TIF\"\n",
        "GCHM_DEPLOY_DIR=\"/content/drive/MyDrive/GCHM_New_Archi/Predictions\"\n",
        "FAIL_DIR=\"/content/drive/MyDrive/GCHM_New_Archi/Log_Failed/log_failed.txt\"\n",
        "S2_DIR=\"/content/drive/MyDrive/GCHM_New_Archi/Dataset_GEE_TIF\"\n",
        "\n",
        "# create directories\n",
        "mkdir -p ${GCHM_DEPLOY_DIR}\n",
        "\n",
        "echo \"Running the deployment command for all images...\"\n",
        "count=1\n",
        "for deploy_image in \"$DEPLOY_IMAGE_PATH\"/*; do\n",
        "  if [[ -f \"$deploy_image\" ]]; then  # Vérifier si c'est un fichier\n",
        "    echo \"*************************************\"\n",
        "    echo \"Processing image ${count}: $deploy_image\"\n",
        "\n",
        "    # Exécuter la commande de déploiement\n",
        "    python3 /content/drive/MyDrive/GCHM_New_Archi/gchm/deploy.py \\\n",
        "      --model_dir=\"${GCHM_MODEL_DIR}\" \\\n",
        "      --deploy_image_path=\"${deploy_image}\" \\\n",
        "      --deploy_dir=\"${GCHM_DEPLOY_DIR}\" \\\n",
        "      --deploy_patch_size=512 \\\n",
        "      --num_workers_deploy=4 \\\n",
        "      --num_models=5 \\\n",
        "      --finetune_strategy=\"FT_Lm_SRCB\" \\\n",
        "      --filepath_failed_image_paths=\"${FAIL_DIR}\" \\\n",
        "      --sentinel2_dir=\"${S2_DIR}\" \\\n",
        "      --remove_image_after_pred=\"False\"\n",
        "\n",
        "    # Vérifier si la commande de déploiement a réussi\n",
        "    exit_status=$?  # Stocker le code de sortie\n",
        "    if [ $exit_status -ne 0 ]; then\n",
        "      echo \"Deployment failed for image $deploy_image. Logging failed image.\"\n",
        "      echo \"$deploy_image\" >> \"$FAIL_DIR\"\n",
        "    fi\n",
        "\n",
        "    count=$((count + 1))\n",
        "  fi\n",
        "done\n",
        "\n",
        "echo \"All processes completed successfully!\""
      ],
      "metadata": {
        "colab": {
          "base_uri": "https://localhost:8080/"
        },
        "id": "DbDOk8xBnMNZ",
        "outputId": "576ae195-7e63-4d5f-d4a7-d0e652e808aa"
      },
      "execution_count": 51,
      "outputs": [
        {
          "output_type": "stream",
          "name": "stdout",
          "text": [
            "Running the deployment command for all images...\n",
            "*************************************\n",
            "Processing image 1: /content/drive/MyDrive/GCHM_New_Archi/Dataset_GEE_TIF/Greece_2020-06-01.tif\n",
            "DEVICE:  cuda:0 NVIDIA L4\n",
            "Sampled model_id: 4 out of 5 models in ensemble.\n",
            "Using args.model_dir:  /content/drive/MyDrive/GCHM_New_Archi/trained_models/GLOBAL_GEDI_2019_2020/model_4/FT_Lm_SRCB\n",
            "Loading args from trained models directory...\n",
            "{'model_dir': '/content/drive/MyDrive/GCHM_New_Archi/trained_models/GLOBAL_GEDI_2019_2020/model_4/FT_Lm_SRCB', 'deploy_image_path': '/content/drive/MyDrive/GCHM_New_Archi/Dataset_GEE_TIF/Greece_2020-06-01.tif', 'deploy_dir': '/content/drive/MyDrive/GCHM_New_Archi/Predictions', 'filepath_failed_image_paths': '/content/drive/MyDrive/GCHM_New_Archi/Log_Failed/log_failed.txt', 'deploy_patch_size': 512, 'deploy_batch_size': 2, 'num_workers_deploy': 4, 'num_models': 5, 'save_latlon_masks': False, 'remove_image_after_pred': False, 'sentinel2_dir': '/content/drive/MyDrive/GCHM_New_Archi/Dataset_GEE_TIF', 'finetune_strategy': 'FT_Lm_SRCB', 'model_id': 4, 'out_dir': '/cluster/work/igp_psr/nlang//nlang_HCS/experiments/global_vhm/GLOBAL_GEDI_20192020/xceptionS2_08blocks_256/input_lat_lon_True/epochs_1000/cloudfree_True/loss_GNLL_weight_/MPpred_False_MPlabel_False/long_skip_True/lr_1e-4/scheduler_MultiStepLR/batch_64/l2_lambda_0/norm_targets_True/model_4//FT_Lm_SRCB', 'h5_dir': '/cluster/work/igp_psr/nlang//global_vhm/GEDI_patches_GLOBAL_2020_SCL/h5_patches_20192020_cloudfree_chunk1_blosc5_split_shuffled/GLOBAL_GEDI/ALL/shuffled_merged_chunk64_blosc:zstd_complevel5_bitshuffle0_shuffle1', 'merged_h5_files': True, 'region_name': 'GLOBAL_GEDI', 'input_lat_lon': True, 'separate_lat_lon': False, 'geo_shift': False, 'geo_scale': False, 'input_key': 'inputs', 'label_mean_key': 'labels_mean', 'debug': False, 'do_profile': False, 'channels': 15, 'patch_size': 15, 'long_skip': True, 'architecture': 'xceptionS2_08blocks_256', 'manual_init': False, 'return_variance': True, 'max_pool_predictions': False, 'max_pool_labels': False, 'loss_key': 'GNLL', 'weight_key': 'inv_sqrt_freq', 'eps': 0, 'optimizer': 'ADAM', 'scheduler': 'MultiStepLR', 'base_learning_rate': 0.0001, 'l2_lambda': 0.0, 'batch_size': 64, 'num_workers': 4, 'model_weights_path': None, 'nb_epoch': 1150, 'iterations_per_epoch': 5000, 'max_grad_norm': None, 'max_grad_value': 1000.0, 'custom_sampler': 'SliceBatchSampler', 'slice_step': 1, 'lr_milestones': [400, 700], 'base_model_dir': '/cluster/work/igp_psr/nlang//nlang_HCS/experiments/global_vhm/GLOBAL_GEDI_20192020/xceptionS2_08blocks_256/input_lat_lon_True/epochs_1000/cloudfree_True/loss_GNLL_weight_/MPpred_False_MPlabel_False/long_skip_True/lr_1e-4/scheduler_MultiStepLR/batch_64/l2_lambda_0/norm_targets_True/model_4/', 'freeze_features': True, 'freeze_last_mean': False, 'freeze_last_var': True, 'reinit_last_layer': False, 'class_balanced': True, 'load_optimizer_state_dict': True, 'num_samples_statistics': 100.0, 'data_stats_dir': '/cluster/work/igp_psr/nlang//global_vhm/GEDI_patches_GLOBAL_2020_SCL/dataset_statistics_from_loader/GLOBAL_GEDI_20192020_cloudfree_train_latlon_True', 'normalize_targets': True, 'do_train': True, 'train_tiles': ['None_1'], 'val_tiles': ['None_2'], 'test_tiles': ['None_3'], 'use_cloud_free': False, 'data_dir': None, 'input_name': 'canopy', 'target_name': 'HCS2', 'intermediate_features': 16, 'task': 'classification', 'log_dir': '/cluster/work/igp_psr/nlang//nlang_HCS/experiments/global_vhm/GLOBAL_GEDI_20192020/xceptionS2_08blocks_256/input_lat_lon_True/epochs_1000/cloudfree_True/loss_GNLL_weight_/MPpred_False_MPlabel_False/long_skip_True/lr_1e-4/scheduler_MultiStepLR/batch_64/l2_lambda_0/norm_targets_True/model_4//FT_Lm_SRCB/log'}\n",
            "file_name: /content/drive/MyDrive/GCHM_New_Archi/Dataset_GEE_TIF/Greece_2020-06-01.tif\n",
            "train_input_mean [ 1.7249045e+02  2.1719879e+02  3.0656104e+02  3.8471408e+02\n",
            "  4.9144901e+02  6.6224811e+02  8.6727655e+02  9.2740576e+02\n",
            "  9.9507318e+02  9.5948553e+02  8.2007733e+02  6.4042609e+02\n",
            "  6.1001692e+00 -1.1157603e-02  8.8593937e-02]\n",
            "train_input_std [4.3942572e+02 4.9881580e+02 6.0036780e+02 7.5097937e+02 8.9678149e+02\n",
            " 1.4208789e+03 1.6246718e+03 1.6761521e+03 1.7308650e+03 1.7111084e+03\n",
            " 1.5522928e+03 1.2074014e+03 2.0392551e+01 3.8564864e-01 3.6751011e-01]\n",
            "train_target_mean [12.195409]\n",
            "train_target_std [11.241926]\n",
            "sorting bands...\n",
            "{'projection': 'GEOGCS[\"WGS 84\",DATUM[\"WGS_1984\",SPHEROID[\"WGS 84\",6378137,298.257223563,AUTHORITY[\"EPSG\",\"7030\"]],AUTHORITY[\"EPSG\",\"6326\"]],PRIMEM[\"Greenwich\",0,AUTHORITY[\"EPSG\",\"8901\"]],UNIT[\"degree\",0.0174532925199433,AUTHORITY[\"EPSG\",\"9122\"]],AXIS[\"Latitude\",NORTH],AXIS[\"Longitude\",EAST],AUTHORITY[\"EPSG\",\"4326\"]]', 'geotransform': [22.360594557717892, 8.983152841195215e-05, 0, 38.69511052650521, 0, -8.983152841195215e-05], 'width': 558, 'height': 557, 'bounds': BoundingBox(left=22.360594557717892, bottom=38.64507436517975, right=22.41072055057176, top=38.69511052650521)}\n",
            "img_rows, img_cols: 589 590\n",
            "number of patches:  4\n",
            "lat_mask.shape:  (557, 558)\n",
            "lon_mask.shape:  (557, 558)\n",
            "self.image_shape_original:  (557, 558, 12)\n",
            "after padding: self.image.shape:  (589, 590, 12)\n",
            "after padding: self.lat_mask.shape:  (589, 590)\n",
            "after padding: self.lon_mask.shape:  (589, 590)\n",
            "TIME LOADING BANDS: 00:00:01\n",
            "Loading architecture:  xceptionS2_08blocks_256\n",
            "Freezing feature extractor... args.freeze_features=True\n",
            "Unfreeze last layer (mean regressor)... args.freeze_last_mean=False\n",
            "Loading model weights from latest checkpoint ...\n",
            "\rpred:   0%|                                                                   | 0/2 [00:00<?, ?it/s]\rpred:  50%|█████████████████████████████▌                             | 1/2 [00:00<00:00,  1.09it/s]\rpred: 100%|███████████████████████████████████████████████████████████| 2/2 [00:01<00:00,  1.58it/s]\rpred: 100%|███████████████████████████████████████████████████████████| 2/2 [00:01<00:00,  1.46it/s]\n",
            "val_dict['predictions'].shape:  torch.Size([4, 1, 512, 512])\n",
            "val_dict['std'].shape:  torch.Size([4, 1, 512, 512])\n",
            "Recomposing predictions ...\n",
            "self.image.shape (589, 590, 12)\n",
            "invalid_mask.shape (557, 558)\n",
            "number of empty pixels: 0\n",
            "(557, 558)\n",
            "Saving to: /content/drive/MyDrive/GCHM_New_Archi/Predictions/Greece_2020-06-01_predictions.tif\n",
            "Recomposing std ...\n",
            "self.image.shape (589, 590, 12)\n",
            "invalid_mask.shape (557, 558)\n",
            "number of empty pixels: 0\n",
            "(557, 558)\n",
            "Saving to: /content/drive/MyDrive/GCHM_New_Archi/Predictions/Greece_2020-06-01_std.tif\n",
            "*************************************\n",
            "Processing image 2: /content/drive/MyDrive/GCHM_New_Archi/Dataset_GEE_TIF/Greece_2024-06-01.tif\n",
            "DEVICE:  cuda:0 NVIDIA L4\n",
            "Sampled model_id: 0 out of 5 models in ensemble.\n",
            "Using args.model_dir:  /content/drive/MyDrive/GCHM_New_Archi/trained_models/GLOBAL_GEDI_2019_2020/model_0/FT_Lm_SRCB\n",
            "Loading args from trained models directory...\n",
            "{'model_dir': '/content/drive/MyDrive/GCHM_New_Archi/trained_models/GLOBAL_GEDI_2019_2020/model_0/FT_Lm_SRCB', 'deploy_image_path': '/content/drive/MyDrive/GCHM_New_Archi/Dataset_GEE_TIF/Greece_2024-06-01.tif', 'deploy_dir': '/content/drive/MyDrive/GCHM_New_Archi/Predictions', 'filepath_failed_image_paths': '/content/drive/MyDrive/GCHM_New_Archi/Log_Failed/log_failed.txt', 'deploy_patch_size': 512, 'deploy_batch_size': 2, 'num_workers_deploy': 4, 'num_models': 5, 'save_latlon_masks': False, 'remove_image_after_pred': False, 'sentinel2_dir': '/content/drive/MyDrive/GCHM_New_Archi/Dataset_GEE_TIF', 'finetune_strategy': 'FT_Lm_SRCB', 'model_id': 0, 'out_dir': '/cluster/work/igp_psr/nlang//nlang_HCS/experiments/global_vhm/GLOBAL_GEDI_20192020/xceptionS2_08blocks_256/input_lat_lon_True/epochs_1000/cloudfree_True/loss_GNLL_weight_/MPpred_False_MPlabel_False/long_skip_True/lr_1e-4/scheduler_MultiStepLR/batch_64/l2_lambda_0/norm_targets_True/model_0//FT_Lm_SRCB', 'h5_dir': '/cluster/work/igp_psr/nlang//global_vhm/GEDI_patches_GLOBAL_2020_SCL/h5_patches_20192020_cloudfree_chunk1_blosc5_split_shuffled/GLOBAL_GEDI/ALL/shuffled_merged_chunk64_blosc:zstd_complevel5_bitshuffle0_shuffle1', 'merged_h5_files': True, 'region_name': 'GLOBAL_GEDI', 'input_lat_lon': True, 'separate_lat_lon': False, 'geo_shift': False, 'geo_scale': False, 'input_key': 'inputs', 'label_mean_key': 'labels_mean', 'debug': False, 'do_profile': False, 'channels': 15, 'patch_size': 15, 'long_skip': True, 'architecture': 'xceptionS2_08blocks_256', 'manual_init': False, 'return_variance': True, 'max_pool_predictions': False, 'max_pool_labels': False, 'loss_key': 'GNLL', 'weight_key': 'inv_sqrt_freq', 'eps': 0, 'optimizer': 'ADAM', 'scheduler': 'MultiStepLR', 'base_learning_rate': 0.0001, 'l2_lambda': 0.0, 'batch_size': 64, 'num_workers': 4, 'model_weights_path': None, 'nb_epoch': 1150, 'iterations_per_epoch': 5000, 'max_grad_norm': None, 'max_grad_value': 1000.0, 'custom_sampler': 'SliceBatchSampler', 'slice_step': 1, 'lr_milestones': [400, 700], 'base_model_dir': '/cluster/work/igp_psr/nlang//nlang_HCS/experiments/global_vhm/GLOBAL_GEDI_20192020/xceptionS2_08blocks_256/input_lat_lon_True/epochs_1000/cloudfree_True/loss_GNLL_weight_/MPpred_False_MPlabel_False/long_skip_True/lr_1e-4/scheduler_MultiStepLR/batch_64/l2_lambda_0/norm_targets_True/model_0/', 'freeze_features': True, 'freeze_last_mean': False, 'freeze_last_var': True, 'reinit_last_layer': False, 'class_balanced': True, 'load_optimizer_state_dict': True, 'num_samples_statistics': 100.0, 'data_stats_dir': '/cluster/work/igp_psr/nlang//global_vhm/GEDI_patches_GLOBAL_2020_SCL/dataset_statistics_from_loader/GLOBAL_GEDI_20192020_cloudfree_train_latlon_True', 'normalize_targets': True, 'do_train': True, 'train_tiles': ['None_1'], 'val_tiles': ['None_2'], 'test_tiles': ['None_3'], 'use_cloud_free': False, 'data_dir': None, 'input_name': 'canopy', 'target_name': 'HCS2', 'intermediate_features': 16, 'task': 'classification', 'log_dir': '/cluster/work/igp_psr/nlang//nlang_HCS/experiments/global_vhm/GLOBAL_GEDI_20192020/xceptionS2_08blocks_256/input_lat_lon_True/epochs_1000/cloudfree_True/loss_GNLL_weight_/MPpred_False_MPlabel_False/long_skip_True/lr_1e-4/scheduler_MultiStepLR/batch_64/l2_lambda_0/norm_targets_True/model_0//FT_Lm_SRCB/log'}\n",
            "file_name: /content/drive/MyDrive/GCHM_New_Archi/Dataset_GEE_TIF/Greece_2024-06-01.tif\n",
            "train_input_mean [ 1.7249045e+02  2.1719879e+02  3.0656104e+02  3.8471408e+02\n",
            "  4.9144901e+02  6.6224811e+02  8.6727655e+02  9.2740576e+02\n",
            "  9.9507318e+02  9.5948553e+02  8.2007733e+02  6.4042609e+02\n",
            "  6.1001692e+00 -1.1157603e-02  8.8593937e-02]\n",
            "train_input_std [4.3942572e+02 4.9881580e+02 6.0036780e+02 7.5097937e+02 8.9678149e+02\n",
            " 1.4208789e+03 1.6246718e+03 1.6761521e+03 1.7308650e+03 1.7111084e+03\n",
            " 1.5522928e+03 1.2074014e+03 2.0392551e+01 3.8564864e-01 3.6751011e-01]\n",
            "train_target_mean [12.195409]\n",
            "train_target_std [11.241926]\n",
            "sorting bands...\n",
            "{'projection': 'GEOGCS[\"WGS 84\",DATUM[\"WGS_1984\",SPHEROID[\"WGS 84\",6378137,298.257223563,AUTHORITY[\"EPSG\",\"7030\"]],AUTHORITY[\"EPSG\",\"6326\"]],PRIMEM[\"Greenwich\",0,AUTHORITY[\"EPSG\",\"8901\"]],UNIT[\"degree\",0.0174532925199433,AUTHORITY[\"EPSG\",\"9122\"]],AXIS[\"Latitude\",NORTH],AXIS[\"Longitude\",EAST],AUTHORITY[\"EPSG\",\"4326\"]]', 'geotransform': [22.360594557717892, 8.983152841195215e-05, 0, 38.69511052650521, 0, -8.983152841195215e-05], 'width': 558, 'height': 557, 'bounds': BoundingBox(left=22.360594557717892, bottom=38.64507436517975, right=22.41072055057176, top=38.69511052650521)}\n",
            "img_rows, img_cols: 589 590\n",
            "number of patches:  4\n",
            "lat_mask.shape:  (557, 558)\n",
            "lon_mask.shape:  (557, 558)\n",
            "self.image_shape_original:  (557, 558, 12)\n",
            "after padding: self.image.shape:  (589, 590, 12)\n",
            "after padding: self.lat_mask.shape:  (589, 590)\n",
            "after padding: self.lon_mask.shape:  (589, 590)\n",
            "TIME LOADING BANDS: 00:00:02\n",
            "Loading architecture:  xceptionS2_08blocks_256\n",
            "Freezing feature extractor... args.freeze_features=True\n",
            "Unfreeze last layer (mean regressor)... args.freeze_last_mean=False\n",
            "Loading model weights from latest checkpoint ...\n",
            "\rpred:   0%|                                                                   | 0/2 [00:00<?, ?it/s]\rpred:  50%|█████████████████████████████▌                             | 1/2 [00:00<00:00,  1.06it/s]\rpred: 100%|███████████████████████████████████████████████████████████| 2/2 [00:01<00:00,  1.56it/s]\rpred: 100%|███████████████████████████████████████████████████████████| 2/2 [00:01<00:00,  1.44it/s]\n",
            "val_dict['predictions'].shape:  torch.Size([4, 1, 512, 512])\n",
            "val_dict['std'].shape:  torch.Size([4, 1, 512, 512])\n",
            "Recomposing predictions ...\n",
            "self.image.shape (589, 590, 12)\n",
            "invalid_mask.shape (557, 558)\n",
            "number of empty pixels: 0\n",
            "(557, 558)\n",
            "Saving to: /content/drive/MyDrive/GCHM_New_Archi/Predictions/Greece_2024-06-01_predictions.tif\n",
            "Recomposing std ...\n",
            "self.image.shape (589, 590, 12)\n",
            "invalid_mask.shape (557, 558)\n",
            "number of empty pixels: 0\n",
            "(557, 558)\n",
            "Saving to: /content/drive/MyDrive/GCHM_New_Archi/Predictions/Greece_2024-06-01_std.tif\n",
            "All processes completed successfully!\n"
          ]
        },
        {
          "output_type": "stream",
          "name": "stderr",
          "text": [
            "/content/drive/MyDrive/GCHM_New_Archi/gchm/deploy.py:219: FutureWarning: You are using `torch.load` with `weights_only=False` (the current default value), which uses the default pickle module implicitly. It is possible to construct malicious pickle data which will execute arbitrary code during unpickling (See https://github.com/pytorch/pytorch/blob/main/SECURITY.md#untrusted-models for more details). In a future release, the default value for `weights_only` will be flipped to `True`. This limits the functions that could be executed during unpickling. Arbitrary objects will no longer be allowed to be loaded via this mode unless they are explicitly allowlisted by the user via `torch.serialization.add_safe_globals`. We recommend you start setting `weights_only=True` for any use case where you don't have full control of the loaded file. Please open an issue on GitHub for any issues related to this experimental feature.\n",
            "  checkpoint = torch.load(checkpoint_path)\n",
            "/content/drive/MyDrive/GCHM_New_Archi/gchm/deploy.py:219: FutureWarning: You are using `torch.load` with `weights_only=False` (the current default value), which uses the default pickle module implicitly. It is possible to construct malicious pickle data which will execute arbitrary code during unpickling (See https://github.com/pytorch/pytorch/blob/main/SECURITY.md#untrusted-models for more details). In a future release, the default value for `weights_only` will be flipped to `True`. This limits the functions that could be executed during unpickling. Arbitrary objects will no longer be allowed to be loaded via this mode unless they are explicitly allowlisted by the user via `torch.serialization.add_safe_globals`. We recommend you start setting `weights_only=True` for any use case where you don't have full control of the loaded file. Please open an issue on GitHub for any issues related to this experimental feature.\n",
            "  checkpoint = torch.load(checkpoint_path)\n"
          ]
        }
      ]
    },
    {
      "cell_type": "markdown",
      "source": [
        "____________\n"
      ],
      "metadata": {
        "id": "QdILn86gnPeZ"
      }
    },
    {
      "cell_type": "markdown",
      "source": [
        "You should find your results in : /content/drive/MyDrive/GCHM_New_Archi/Predictions/\n"
      ],
      "metadata": {
        "id": "6dKUeXOzKS_l"
      }
    }
  ]
}