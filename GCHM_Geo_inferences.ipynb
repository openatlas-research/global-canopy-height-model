{
  "nbformat": 4,
  "nbformat_minor": 0,
  "metadata": {
    "colab": {
      "provenance": [],
      "gpuType": "L4"
    },
    "kernelspec": {
      "name": "python3",
      "display_name": "Python 3"
    },
    "language_info": {
      "name": "python"
    },
    "accelerator": "GPU"
  },
  "cells": [
    {
      "cell_type": "markdown",
      "source": [
        "\n",
        "Here is the implementation of the **GCHM** model, complete with all the necessary functions. This shell script serves as the backbone for running the model. You can access everything via the following GDrive link: [GCHM_geo_inference](https://drive.google.com/drive/folders/1ApEOdYm1NsVrIBE-GpUBfaE35ZAGrmvB?usp=drive_link)\n",
        "### **Important Notes:**\n",
        "\n",
        "\n",
        "*  **GPU Required:** Make sure your system is equipped with a GPU to run the model effectively.\n",
        "\n",
        "*   **Folder Placement:** Once you download the folder, place it in /content/drive/MyDrive. It should work seamlessly from there. If you encounter any issues with file paths, you’ll need to modify them in the following files: *deploy.py, config.json, and ee_preprocess.py.*\n",
        "\n",
        "*   **Test Data:** You already have my previous test runs on the drive (Greece 2020 and Greece 2024), which can be visualized using QGIS.\n",
        "\n",
        "*   **GeoJSON Shape Requirements:**\n",
        "To run it on your AoI, just put the GeoJSON file, and adapt the path in config.json\n",
        "Ensure that your GeoJSON file defines a perfect square for the Area of Interest (AoI). If the shape isn’t square, the CNN will break due to issues with batch processing. To solve this, I usually select an AoI on geojson.io and ask ChatGPT to adjust it into a perfect square.\n",
        "\n",
        "\n",
        "\n",
        "\n",
        "\n",
        "\n",
        "\n"
      ],
      "metadata": {
        "id": "Gp5NPcpzinz7"
      }
    },
    {
      "cell_type": "code",
      "execution_count": 1,
      "metadata": {
        "id": "Kw_msw64VG7M",
        "colab": {
          "base_uri": "https://localhost:8080/"
        },
        "outputId": "fe69eb79-1202-4340-e0ee-608364b04812"
      },
      "outputs": [
        {
          "output_type": "stream",
          "name": "stdout",
          "text": [
            "Mounted at /content/drive\n"
          ]
        }
      ],
      "source": [
        "from google.colab import drive\n",
        "drive.mount('/content/drive')"
      ]
    },
    {
      "cell_type": "code",
      "source": [
        "!pip install -r /content/drive/MyDrive/GCHM_New_Archi/requirements.txt"
      ],
      "metadata": {
        "colab": {
          "base_uri": "https://localhost:8080/",
          "height": 1000
        },
        "id": "hqoJ0rmXZu-N",
        "outputId": "6e163638-a153-4aeb-cc61-13b169c0cb60"
      },
      "execution_count": 2,
      "outputs": [
        {
          "output_type": "stream",
          "name": "stdout",
          "text": [
            "Requirement already satisfied: tables in /usr/local/lib/python3.11/dist-packages (from -r /content/drive/MyDrive/GCHM_New_Archi/requirements.txt (line 1)) (3.10.2)\n",
            "Requirement already satisfied: ipython in /usr/local/lib/python3.11/dist-packages (from -r /content/drive/MyDrive/GCHM_New_Archi/requirements.txt (line 2)) (7.34.0)\n",
            "Requirement already satisfied: matplotlib in /usr/local/lib/python3.11/dist-packages (from -r /content/drive/MyDrive/GCHM_New_Archi/requirements.txt (line 3)) (3.10.0)\n",
            "Requirement already satisfied: numpy in /usr/local/lib/python3.11/dist-packages (from -r /content/drive/MyDrive/GCHM_New_Archi/requirements.txt (line 4)) (1.26.4)\n",
            "Requirement already satisfied: wandb in /usr/local/lib/python3.11/dist-packages (from -r /content/drive/MyDrive/GCHM_New_Archi/requirements.txt (line 5)) (0.19.4)\n",
            "Requirement already satisfied: pathlib in /usr/local/lib/python3.11/dist-packages (from -r /content/drive/MyDrive/GCHM_New_Archi/requirements.txt (line 6)) (1.0.1)\n",
            "Requirement already satisfied: tqdm in /usr/local/lib/python3.11/dist-packages (from -r /content/drive/MyDrive/GCHM_New_Archi/requirements.txt (line 7)) (4.67.1)\n",
            "Collecting botocore (from -r /content/drive/MyDrive/GCHM_New_Archi/requirements.txt (line 8))\n",
            "  Downloading botocore-1.36.8-py3-none-any.whl.metadata (5.7 kB)\n",
            "Requirement already satisfied: urllib3 in /usr/local/lib/python3.11/dist-packages (from -r /content/drive/MyDrive/GCHM_New_Archi/requirements.txt (line 9)) (2.3.0)\n",
            "Requirement already satisfied: scikit-image in /usr/local/lib/python3.11/dist-packages (from -r /content/drive/MyDrive/GCHM_New_Archi/requirements.txt (line 10)) (0.25.1)\n",
            "Collecting typing (from -r /content/drive/MyDrive/GCHM_New_Archi/requirements.txt (line 11))\n",
            "  Downloading typing-3.7.4.3.tar.gz (78 kB)\n",
            "\u001b[2K     \u001b[90m━━━━━━━━━━━━━━━━━━━━━━━━━━━━━━━━━━━━━━━━\u001b[0m \u001b[32m78.6/78.6 kB\u001b[0m \u001b[31m8.5 MB/s\u001b[0m eta \u001b[36m0:00:00\u001b[0m\n",
            "\u001b[?25h  Preparing metadata (setup.py) ... \u001b[?25l\u001b[?25hdone\n",
            "Requirement already satisfied: scikit-learn in /usr/local/lib/python3.11/dist-packages (from -r /content/drive/MyDrive/GCHM_New_Archi/requirements.txt (line 12)) (1.6.1)\n",
            "Requirement already satisfied: tensorboard in /usr/local/lib/python3.11/dist-packages (from -r /content/drive/MyDrive/GCHM_New_Archi/requirements.txt (line 14)) (2.18.0)\n",
            "Requirement already satisfied: earthengine-api in /usr/local/lib/python3.11/dist-packages (from -r /content/drive/MyDrive/GCHM_New_Archi/requirements.txt (line 15)) (1.4.6)\n",
            "Requirement already satisfied: pandas in /usr/local/lib/python3.11/dist-packages (from -r /content/drive/MyDrive/GCHM_New_Archi/requirements.txt (line 16)) (2.2.2)\n",
            "Requirement already satisfied: geopandas in /usr/local/lib/python3.11/dist-packages (from -r /content/drive/MyDrive/GCHM_New_Archi/requirements.txt (line 17)) (1.0.1)\n",
            "Collecting rasterio (from -r /content/drive/MyDrive/GCHM_New_Archi/requirements.txt (line 18))\n",
            "  Downloading rasterio-1.4.3-cp311-cp311-manylinux_2_17_x86_64.manylinux2014_x86_64.whl.metadata (9.1 kB)\n",
            "Requirement already satisfied: shapely in /usr/local/lib/python3.11/dist-packages (from -r /content/drive/MyDrive/GCHM_New_Archi/requirements.txt (line 19)) (2.0.6)\n",
            "Requirement already satisfied: requests in /usr/local/lib/python3.11/dist-packages (from -r /content/drive/MyDrive/GCHM_New_Archi/requirements.txt (line 20)) (2.32.3)\n",
            "Requirement already satisfied: numexpr>=2.6.2 in /usr/local/lib/python3.11/dist-packages (from tables->-r /content/drive/MyDrive/GCHM_New_Archi/requirements.txt (line 1)) (2.10.2)\n",
            "Requirement already satisfied: packaging in /usr/local/lib/python3.11/dist-packages (from tables->-r /content/drive/MyDrive/GCHM_New_Archi/requirements.txt (line 1)) (24.2)\n",
            "Requirement already satisfied: py-cpuinfo in /usr/local/lib/python3.11/dist-packages (from tables->-r /content/drive/MyDrive/GCHM_New_Archi/requirements.txt (line 1)) (9.0.0)\n",
            "Requirement already satisfied: blosc2>=2.3.0 in /usr/local/lib/python3.11/dist-packages (from tables->-r /content/drive/MyDrive/GCHM_New_Archi/requirements.txt (line 1)) (3.0.0)\n",
            "Requirement already satisfied: typing-extensions>=4.4.0 in /usr/local/lib/python3.11/dist-packages (from tables->-r /content/drive/MyDrive/GCHM_New_Archi/requirements.txt (line 1)) (4.12.2)\n",
            "Requirement already satisfied: setuptools>=18.5 in /usr/local/lib/python3.11/dist-packages (from ipython->-r /content/drive/MyDrive/GCHM_New_Archi/requirements.txt (line 2)) (75.1.0)\n",
            "Collecting jedi>=0.16 (from ipython->-r /content/drive/MyDrive/GCHM_New_Archi/requirements.txt (line 2))\n",
            "  Downloading jedi-0.19.2-py2.py3-none-any.whl.metadata (22 kB)\n",
            "Requirement already satisfied: decorator in /usr/local/lib/python3.11/dist-packages (from ipython->-r /content/drive/MyDrive/GCHM_New_Archi/requirements.txt (line 2)) (4.4.2)\n",
            "Requirement already satisfied: pickleshare in /usr/local/lib/python3.11/dist-packages (from ipython->-r /content/drive/MyDrive/GCHM_New_Archi/requirements.txt (line 2)) (0.7.5)\n",
            "Requirement already satisfied: traitlets>=4.2 in /usr/local/lib/python3.11/dist-packages (from ipython->-r /content/drive/MyDrive/GCHM_New_Archi/requirements.txt (line 2)) (5.7.1)\n",
            "Requirement already satisfied: prompt-toolkit!=3.0.0,!=3.0.1,<3.1.0,>=2.0.0 in /usr/local/lib/python3.11/dist-packages (from ipython->-r /content/drive/MyDrive/GCHM_New_Archi/requirements.txt (line 2)) (3.0.50)\n",
            "Requirement already satisfied: pygments in /usr/local/lib/python3.11/dist-packages (from ipython->-r /content/drive/MyDrive/GCHM_New_Archi/requirements.txt (line 2)) (2.18.0)\n",
            "Requirement already satisfied: backcall in /usr/local/lib/python3.11/dist-packages (from ipython->-r /content/drive/MyDrive/GCHM_New_Archi/requirements.txt (line 2)) (0.2.0)\n",
            "Requirement already satisfied: matplotlib-inline in /usr/local/lib/python3.11/dist-packages (from ipython->-r /content/drive/MyDrive/GCHM_New_Archi/requirements.txt (line 2)) (0.1.7)\n",
            "Requirement already satisfied: pexpect>4.3 in /usr/local/lib/python3.11/dist-packages (from ipython->-r /content/drive/MyDrive/GCHM_New_Archi/requirements.txt (line 2)) (4.9.0)\n",
            "Requirement already satisfied: contourpy>=1.0.1 in /usr/local/lib/python3.11/dist-packages (from matplotlib->-r /content/drive/MyDrive/GCHM_New_Archi/requirements.txt (line 3)) (1.3.1)\n",
            "Requirement already satisfied: cycler>=0.10 in /usr/local/lib/python3.11/dist-packages (from matplotlib->-r /content/drive/MyDrive/GCHM_New_Archi/requirements.txt (line 3)) (0.12.1)\n",
            "Requirement already satisfied: fonttools>=4.22.0 in /usr/local/lib/python3.11/dist-packages (from matplotlib->-r /content/drive/MyDrive/GCHM_New_Archi/requirements.txt (line 3)) (4.55.6)\n",
            "Requirement already satisfied: kiwisolver>=1.3.1 in /usr/local/lib/python3.11/dist-packages (from matplotlib->-r /content/drive/MyDrive/GCHM_New_Archi/requirements.txt (line 3)) (1.4.8)\n",
            "Requirement already satisfied: pillow>=8 in /usr/local/lib/python3.11/dist-packages (from matplotlib->-r /content/drive/MyDrive/GCHM_New_Archi/requirements.txt (line 3)) (11.1.0)\n",
            "Requirement already satisfied: pyparsing>=2.3.1 in /usr/local/lib/python3.11/dist-packages (from matplotlib->-r /content/drive/MyDrive/GCHM_New_Archi/requirements.txt (line 3)) (3.2.1)\n",
            "Requirement already satisfied: python-dateutil>=2.7 in /usr/local/lib/python3.11/dist-packages (from matplotlib->-r /content/drive/MyDrive/GCHM_New_Archi/requirements.txt (line 3)) (2.8.2)\n",
            "Requirement already satisfied: click!=8.0.0,>=7.1 in /usr/local/lib/python3.11/dist-packages (from wandb->-r /content/drive/MyDrive/GCHM_New_Archi/requirements.txt (line 5)) (8.1.8)\n",
            "Requirement already satisfied: docker-pycreds>=0.4.0 in /usr/local/lib/python3.11/dist-packages (from wandb->-r /content/drive/MyDrive/GCHM_New_Archi/requirements.txt (line 5)) (0.4.0)\n",
            "Requirement already satisfied: gitpython!=3.1.29,>=1.0.0 in /usr/local/lib/python3.11/dist-packages (from wandb->-r /content/drive/MyDrive/GCHM_New_Archi/requirements.txt (line 5)) (3.1.44)\n",
            "Requirement already satisfied: platformdirs in /usr/local/lib/python3.11/dist-packages (from wandb->-r /content/drive/MyDrive/GCHM_New_Archi/requirements.txt (line 5)) (4.3.6)\n",
            "Requirement already satisfied: protobuf!=4.21.0,!=5.28.0,<6,>=3.19.0 in /usr/local/lib/python3.11/dist-packages (from wandb->-r /content/drive/MyDrive/GCHM_New_Archi/requirements.txt (line 5)) (4.25.6)\n",
            "Requirement already satisfied: psutil>=5.0.0 in /usr/local/lib/python3.11/dist-packages (from wandb->-r /content/drive/MyDrive/GCHM_New_Archi/requirements.txt (line 5)) (5.9.5)\n",
            "Requirement already satisfied: pydantic<3,>=2.6 in /usr/local/lib/python3.11/dist-packages (from wandb->-r /content/drive/MyDrive/GCHM_New_Archi/requirements.txt (line 5)) (2.10.6)\n",
            "Requirement already satisfied: pyyaml in /usr/local/lib/python3.11/dist-packages (from wandb->-r /content/drive/MyDrive/GCHM_New_Archi/requirements.txt (line 5)) (6.0.2)\n",
            "Requirement already satisfied: sentry-sdk>=2.0.0 in /usr/local/lib/python3.11/dist-packages (from wandb->-r /content/drive/MyDrive/GCHM_New_Archi/requirements.txt (line 5)) (2.20.0)\n",
            "Requirement already satisfied: setproctitle in /usr/local/lib/python3.11/dist-packages (from wandb->-r /content/drive/MyDrive/GCHM_New_Archi/requirements.txt (line 5)) (1.3.4)\n",
            "Collecting jmespath<2.0.0,>=0.7.1 (from botocore->-r /content/drive/MyDrive/GCHM_New_Archi/requirements.txt (line 8))\n",
            "  Downloading jmespath-1.0.1-py3-none-any.whl.metadata (7.6 kB)\n",
            "Requirement already satisfied: scipy>=1.11.2 in /usr/local/lib/python3.11/dist-packages (from scikit-image->-r /content/drive/MyDrive/GCHM_New_Archi/requirements.txt (line 10)) (1.13.1)\n",
            "Requirement already satisfied: networkx>=3.0 in /usr/local/lib/python3.11/dist-packages (from scikit-image->-r /content/drive/MyDrive/GCHM_New_Archi/requirements.txt (line 10)) (3.4.2)\n",
            "Requirement already satisfied: imageio!=2.35.0,>=2.33 in /usr/local/lib/python3.11/dist-packages (from scikit-image->-r /content/drive/MyDrive/GCHM_New_Archi/requirements.txt (line 10)) (2.36.1)\n",
            "Requirement already satisfied: tifffile>=2022.8.12 in /usr/local/lib/python3.11/dist-packages (from scikit-image->-r /content/drive/MyDrive/GCHM_New_Archi/requirements.txt (line 10)) (2025.1.10)\n",
            "Requirement already satisfied: lazy-loader>=0.4 in /usr/local/lib/python3.11/dist-packages (from scikit-image->-r /content/drive/MyDrive/GCHM_New_Archi/requirements.txt (line 10)) (0.4)\n",
            "Requirement already satisfied: joblib>=1.2.0 in /usr/local/lib/python3.11/dist-packages (from scikit-learn->-r /content/drive/MyDrive/GCHM_New_Archi/requirements.txt (line 12)) (1.4.2)\n",
            "Requirement already satisfied: threadpoolctl>=3.1.0 in /usr/local/lib/python3.11/dist-packages (from scikit-learn->-r /content/drive/MyDrive/GCHM_New_Archi/requirements.txt (line 12)) (3.5.0)\n",
            "Requirement already satisfied: absl-py>=0.4 in /usr/local/lib/python3.11/dist-packages (from tensorboard->-r /content/drive/MyDrive/GCHM_New_Archi/requirements.txt (line 14)) (1.4.0)\n",
            "Requirement already satisfied: grpcio>=1.48.2 in /usr/local/lib/python3.11/dist-packages (from tensorboard->-r /content/drive/MyDrive/GCHM_New_Archi/requirements.txt (line 14)) (1.70.0)\n",
            "Requirement already satisfied: markdown>=2.6.8 in /usr/local/lib/python3.11/dist-packages (from tensorboard->-r /content/drive/MyDrive/GCHM_New_Archi/requirements.txt (line 14)) (3.7)\n",
            "Requirement already satisfied: six>1.9 in /usr/local/lib/python3.11/dist-packages (from tensorboard->-r /content/drive/MyDrive/GCHM_New_Archi/requirements.txt (line 14)) (1.17.0)\n",
            "Requirement already satisfied: tensorboard-data-server<0.8.0,>=0.7.0 in /usr/local/lib/python3.11/dist-packages (from tensorboard->-r /content/drive/MyDrive/GCHM_New_Archi/requirements.txt (line 14)) (0.7.2)\n",
            "Requirement already satisfied: werkzeug>=1.0.1 in /usr/local/lib/python3.11/dist-packages (from tensorboard->-r /content/drive/MyDrive/GCHM_New_Archi/requirements.txt (line 14)) (3.1.3)\n",
            "Requirement already satisfied: google-cloud-storage in /usr/local/lib/python3.11/dist-packages (from earthengine-api->-r /content/drive/MyDrive/GCHM_New_Archi/requirements.txt (line 15)) (2.19.0)\n",
            "Requirement already satisfied: google-api-python-client>=1.12.1 in /usr/local/lib/python3.11/dist-packages (from earthengine-api->-r /content/drive/MyDrive/GCHM_New_Archi/requirements.txt (line 15)) (2.155.0)\n",
            "Requirement already satisfied: google-auth>=1.4.1 in /usr/local/lib/python3.11/dist-packages (from earthengine-api->-r /content/drive/MyDrive/GCHM_New_Archi/requirements.txt (line 15)) (2.27.0)\n",
            "Requirement already satisfied: google-auth-httplib2>=0.0.3 in /usr/local/lib/python3.11/dist-packages (from earthengine-api->-r /content/drive/MyDrive/GCHM_New_Archi/requirements.txt (line 15)) (0.2.0)\n",
            "Requirement already satisfied: httplib2<1dev,>=0.9.2 in /usr/local/lib/python3.11/dist-packages (from earthengine-api->-r /content/drive/MyDrive/GCHM_New_Archi/requirements.txt (line 15)) (0.22.0)\n",
            "Requirement already satisfied: pytz>=2020.1 in /usr/local/lib/python3.11/dist-packages (from pandas->-r /content/drive/MyDrive/GCHM_New_Archi/requirements.txt (line 16)) (2024.2)\n",
            "Requirement already satisfied: tzdata>=2022.7 in /usr/local/lib/python3.11/dist-packages (from pandas->-r /content/drive/MyDrive/GCHM_New_Archi/requirements.txt (line 16)) (2025.1)\n",
            "Requirement already satisfied: pyogrio>=0.7.2 in /usr/local/lib/python3.11/dist-packages (from geopandas->-r /content/drive/MyDrive/GCHM_New_Archi/requirements.txt (line 17)) (0.10.0)\n",
            "Requirement already satisfied: pyproj>=3.3.0 in /usr/local/lib/python3.11/dist-packages (from geopandas->-r /content/drive/MyDrive/GCHM_New_Archi/requirements.txt (line 17)) (3.7.0)\n",
            "Collecting affine (from rasterio->-r /content/drive/MyDrive/GCHM_New_Archi/requirements.txt (line 18))\n",
            "  Downloading affine-2.4.0-py3-none-any.whl.metadata (4.0 kB)\n",
            "Requirement already satisfied: attrs in /usr/local/lib/python3.11/dist-packages (from rasterio->-r /content/drive/MyDrive/GCHM_New_Archi/requirements.txt (line 18)) (25.1.0)\n",
            "Requirement already satisfied: certifi in /usr/local/lib/python3.11/dist-packages (from rasterio->-r /content/drive/MyDrive/GCHM_New_Archi/requirements.txt (line 18)) (2024.12.14)\n",
            "Collecting cligj>=0.5 (from rasterio->-r /content/drive/MyDrive/GCHM_New_Archi/requirements.txt (line 18))\n",
            "  Downloading cligj-0.7.2-py3-none-any.whl.metadata (5.0 kB)\n",
            "Collecting click-plugins (from rasterio->-r /content/drive/MyDrive/GCHM_New_Archi/requirements.txt (line 18))\n",
            "  Downloading click_plugins-1.1.1-py2.py3-none-any.whl.metadata (6.4 kB)\n",
            "Requirement already satisfied: charset-normalizer<4,>=2 in /usr/local/lib/python3.11/dist-packages (from requests->-r /content/drive/MyDrive/GCHM_New_Archi/requirements.txt (line 20)) (3.4.1)\n",
            "Requirement already satisfied: idna<4,>=2.5 in /usr/local/lib/python3.11/dist-packages (from requests->-r /content/drive/MyDrive/GCHM_New_Archi/requirements.txt (line 20)) (3.10)\n",
            "Requirement already satisfied: ndindex in /usr/local/lib/python3.11/dist-packages (from blosc2>=2.3.0->tables->-r /content/drive/MyDrive/GCHM_New_Archi/requirements.txt (line 1)) (1.9.2)\n",
            "Requirement already satisfied: msgpack in /usr/local/lib/python3.11/dist-packages (from blosc2>=2.3.0->tables->-r /content/drive/MyDrive/GCHM_New_Archi/requirements.txt (line 1)) (1.1.0)\n",
            "Requirement already satisfied: httpx in /usr/local/lib/python3.11/dist-packages (from blosc2>=2.3.0->tables->-r /content/drive/MyDrive/GCHM_New_Archi/requirements.txt (line 1)) (0.28.1)\n",
            "Requirement already satisfied: gitdb<5,>=4.0.1 in /usr/local/lib/python3.11/dist-packages (from gitpython!=3.1.29,>=1.0.0->wandb->-r /content/drive/MyDrive/GCHM_New_Archi/requirements.txt (line 5)) (4.0.12)\n",
            "Requirement already satisfied: google-api-core!=2.0.*,!=2.1.*,!=2.2.*,!=2.3.0,<3.0.0.dev0,>=1.31.5 in /usr/local/lib/python3.11/dist-packages (from google-api-python-client>=1.12.1->earthengine-api->-r /content/drive/MyDrive/GCHM_New_Archi/requirements.txt (line 15)) (2.19.2)\n",
            "Requirement already satisfied: uritemplate<5,>=3.0.1 in /usr/local/lib/python3.11/dist-packages (from google-api-python-client>=1.12.1->earthengine-api->-r /content/drive/MyDrive/GCHM_New_Archi/requirements.txt (line 15)) (4.1.1)\n",
            "Requirement already satisfied: cachetools<6.0,>=2.0.0 in /usr/local/lib/python3.11/dist-packages (from google-auth>=1.4.1->earthengine-api->-r /content/drive/MyDrive/GCHM_New_Archi/requirements.txt (line 15)) (5.5.1)\n",
            "Requirement already satisfied: pyasn1-modules>=0.2.1 in /usr/local/lib/python3.11/dist-packages (from google-auth>=1.4.1->earthengine-api->-r /content/drive/MyDrive/GCHM_New_Archi/requirements.txt (line 15)) (0.4.1)\n",
            "Requirement already satisfied: rsa<5,>=3.1.4 in /usr/local/lib/python3.11/dist-packages (from google-auth>=1.4.1->earthengine-api->-r /content/drive/MyDrive/GCHM_New_Archi/requirements.txt (line 15)) (4.9)\n",
            "Requirement already satisfied: parso<0.9.0,>=0.8.4 in /usr/local/lib/python3.11/dist-packages (from jedi>=0.16->ipython->-r /content/drive/MyDrive/GCHM_New_Archi/requirements.txt (line 2)) (0.8.4)\n",
            "Requirement already satisfied: ptyprocess>=0.5 in /usr/local/lib/python3.11/dist-packages (from pexpect>4.3->ipython->-r /content/drive/MyDrive/GCHM_New_Archi/requirements.txt (line 2)) (0.7.0)\n",
            "Requirement already satisfied: wcwidth in /usr/local/lib/python3.11/dist-packages (from prompt-toolkit!=3.0.0,!=3.0.1,<3.1.0,>=2.0.0->ipython->-r /content/drive/MyDrive/GCHM_New_Archi/requirements.txt (line 2)) (0.2.13)\n",
            "Requirement already satisfied: annotated-types>=0.6.0 in /usr/local/lib/python3.11/dist-packages (from pydantic<3,>=2.6->wandb->-r /content/drive/MyDrive/GCHM_New_Archi/requirements.txt (line 5)) (0.7.0)\n",
            "Requirement already satisfied: pydantic-core==2.27.2 in /usr/local/lib/python3.11/dist-packages (from pydantic<3,>=2.6->wandb->-r /content/drive/MyDrive/GCHM_New_Archi/requirements.txt (line 5)) (2.27.2)\n",
            "Requirement already satisfied: MarkupSafe>=2.1.1 in /usr/local/lib/python3.11/dist-packages (from werkzeug>=1.0.1->tensorboard->-r /content/drive/MyDrive/GCHM_New_Archi/requirements.txt (line 14)) (3.0.2)\n",
            "Requirement already satisfied: google-cloud-core<3.0dev,>=2.3.0 in /usr/local/lib/python3.11/dist-packages (from google-cloud-storage->earthengine-api->-r /content/drive/MyDrive/GCHM_New_Archi/requirements.txt (line 15)) (2.4.1)\n",
            "Requirement already satisfied: google-resumable-media>=2.7.2 in /usr/local/lib/python3.11/dist-packages (from google-cloud-storage->earthengine-api->-r /content/drive/MyDrive/GCHM_New_Archi/requirements.txt (line 15)) (2.7.2)\n",
            "Requirement already satisfied: google-crc32c<2.0dev,>=1.0 in /usr/local/lib/python3.11/dist-packages (from google-cloud-storage->earthengine-api->-r /content/drive/MyDrive/GCHM_New_Archi/requirements.txt (line 15)) (1.6.0)\n",
            "Requirement already satisfied: smmap<6,>=3.0.1 in /usr/local/lib/python3.11/dist-packages (from gitdb<5,>=4.0.1->gitpython!=3.1.29,>=1.0.0->wandb->-r /content/drive/MyDrive/GCHM_New_Archi/requirements.txt (line 5)) (5.0.2)\n",
            "Requirement already satisfied: googleapis-common-protos<2.0.dev0,>=1.56.2 in /usr/local/lib/python3.11/dist-packages (from google-api-core!=2.0.*,!=2.1.*,!=2.2.*,!=2.3.0,<3.0.0.dev0,>=1.31.5->google-api-python-client>=1.12.1->earthengine-api->-r /content/drive/MyDrive/GCHM_New_Archi/requirements.txt (line 15)) (1.66.0)\n",
            "Requirement already satisfied: proto-plus<2.0.0dev,>=1.22.3 in /usr/local/lib/python3.11/dist-packages (from google-api-core!=2.0.*,!=2.1.*,!=2.2.*,!=2.3.0,<3.0.0.dev0,>=1.31.5->google-api-python-client>=1.12.1->earthengine-api->-r /content/drive/MyDrive/GCHM_New_Archi/requirements.txt (line 15)) (1.25.0)\n",
            "Requirement already satisfied: pyasn1<0.7.0,>=0.4.6 in /usr/local/lib/python3.11/dist-packages (from pyasn1-modules>=0.2.1->google-auth>=1.4.1->earthengine-api->-r /content/drive/MyDrive/GCHM_New_Archi/requirements.txt (line 15)) (0.6.1)\n",
            "Requirement already satisfied: anyio in /usr/local/lib/python3.11/dist-packages (from httpx->blosc2>=2.3.0->tables->-r /content/drive/MyDrive/GCHM_New_Archi/requirements.txt (line 1)) (3.7.1)\n",
            "Requirement already satisfied: httpcore==1.* in /usr/local/lib/python3.11/dist-packages (from httpx->blosc2>=2.3.0->tables->-r /content/drive/MyDrive/GCHM_New_Archi/requirements.txt (line 1)) (1.0.7)\n",
            "Requirement already satisfied: h11<0.15,>=0.13 in /usr/local/lib/python3.11/dist-packages (from httpcore==1.*->httpx->blosc2>=2.3.0->tables->-r /content/drive/MyDrive/GCHM_New_Archi/requirements.txt (line 1)) (0.14.0)\n",
            "Requirement already satisfied: sniffio>=1.1 in /usr/local/lib/python3.11/dist-packages (from anyio->httpx->blosc2>=2.3.0->tables->-r /content/drive/MyDrive/GCHM_New_Archi/requirements.txt (line 1)) (1.3.1)\n",
            "Downloading botocore-1.36.8-py3-none-any.whl (13.3 MB)\n",
            "\u001b[2K   \u001b[90m━━━━━━━━━━━━━━━━━━━━━━━━━━━━━━━━━━━━━━━━\u001b[0m \u001b[32m13.3/13.3 MB\u001b[0m \u001b[31m111.6 MB/s\u001b[0m eta \u001b[36m0:00:00\u001b[0m\n",
            "\u001b[?25hDownloading rasterio-1.4.3-cp311-cp311-manylinux_2_17_x86_64.manylinux2014_x86_64.whl (22.2 MB)\n",
            "\u001b[2K   \u001b[90m━━━━━━━━━━━━━━━━━━━━━━━━━━━━━━━━━━━━━━━━\u001b[0m \u001b[32m22.2/22.2 MB\u001b[0m \u001b[31m91.4 MB/s\u001b[0m eta \u001b[36m0:00:00\u001b[0m\n",
            "\u001b[?25hDownloading cligj-0.7.2-py3-none-any.whl (7.1 kB)\n",
            "Downloading jedi-0.19.2-py2.py3-none-any.whl (1.6 MB)\n",
            "\u001b[2K   \u001b[90m━━━━━━━━━━━━━━━━━━━━━━━━━━━━━━━━━━━━━━━━\u001b[0m \u001b[32m1.6/1.6 MB\u001b[0m \u001b[31m75.1 MB/s\u001b[0m eta \u001b[36m0:00:00\u001b[0m\n",
            "\u001b[?25hDownloading jmespath-1.0.1-py3-none-any.whl (20 kB)\n",
            "Downloading affine-2.4.0-py3-none-any.whl (15 kB)\n",
            "Downloading click_plugins-1.1.1-py2.py3-none-any.whl (7.5 kB)\n",
            "Building wheels for collected packages: typing\n",
            "  Building wheel for typing (setup.py) ... \u001b[?25l\u001b[?25hdone\n",
            "  Created wheel for typing: filename=typing-3.7.4.3-py3-none-any.whl size=26303 sha256=913673b1b18e2f59c9ba113279dd0ea79bcf77c7cc4f5806eb28d43d66b2ecd6\n",
            "  Stored in directory: /root/.cache/pip/wheels/9d/67/2f/53e3ef32ec48d11d7d60245255e2d71e908201d20c880c08ee\n",
            "Successfully built typing\n",
            "Installing collected packages: typing, jmespath, jedi, cligj, click-plugins, affine, rasterio, botocore\n",
            "Successfully installed affine-2.4.0 botocore-1.36.8 click-plugins-1.1.1 cligj-0.7.2 jedi-0.19.2 jmespath-1.0.1 rasterio-1.4.3 typing-3.7.4.3\n"
          ]
        },
        {
          "output_type": "display_data",
          "data": {
            "application/vnd.colab-display-data+json": {
              "pip_warning": {
                "packages": [
                  "typing"
                ]
              },
              "id": "2078a1c188ad42a6ac2f37d4bedb9cb8"
            }
          },
          "metadata": {}
        }
      ]
    },
    {
      "cell_type": "code",
      "source": [
        "!earthengine authenticate"
      ],
      "metadata": {
        "colab": {
          "base_uri": "https://localhost:8080/"
        },
        "id": "3SQFMkO8Z0qA",
        "outputId": "3fc7ea06-72f3-482b-b970-8ef8bc5cedde"
      },
      "execution_count": 1,
      "outputs": [
        {
          "output_type": "stream",
          "name": "stdout",
          "text": [
            "WARNING: All log messages before absl::InitializeLog() is called are written to STDERR\n",
            "E0000 00:00:1738183628.851735    3398 cuda_dnn.cc:8310] Unable to register cuDNN factory: Attempting to register factory for plugin cuDNN when one has already been registered\n",
            "E0000 00:00:1738183628.857737    3398 cuda_blas.cc:1418] Unable to register cuBLAS factory: Attempting to register factory for plugin cuBLAS when one has already been registered\n",
            "Authenticate: Limited support in Colab. Use ee.Authenticate() or --auth_mode=notebook instead.\n",
            "W0129 20:47:13.158729 135163626128000 _default.py:683] No project ID could be determined. Consider running `gcloud config set project` or setting the GOOGLE_CLOUD_PROJECT environment variable\n",
            "To authorize access needed by Earth Engine, open the following URL in a web browser and follow the instructions. If the web browser does not start automatically, please manually browse the URL below.\n",
            "\n",
            "    https://code.earthengine.google.com/client-auth?scopes=https%3A//www.googleapis.com/auth/earthengine%20https%3A//www.googleapis.com/auth/cloud-platform%20https%3A//www.googleapis.com/auth/devstorage.full_control&request_id=5khr73k_YXksC3ZjRzUvsARPwdJ7LguIGNdiKGwgoLM&tc=H0v1RT0pf-MVNXDBTh-WFSWcgy1vwrDTbsQjhXZ5Bp4&cc=ohrXxsPvJPGktaCTfNWk-Rrv3TdunyUR3TvJNJ_pd2s\n",
            "\n",
            "The authorization workflow will generate a code, which you should paste in the box below.\n",
            "Enter verification code: 4/1ASVgi3Jrsy_caVOosAVWqHx4Y3GtCrFNLjtJCHiOPpg3mY0DVtK0wTX6A-o\n",
            "\n",
            "Successfully saved authorization token.\n"
          ]
        }
      ]
    },
    {
      "cell_type": "code",
      "source": [
        "%%bash\n",
        "\n",
        "GEO_INF=\"/content/drive/MyDrive/GCHM_geo_inferences/gchm/geo_inferences.py\"\n",
        "\n",
        "echo \"Running the GEE export process...\"\n",
        "python3 \"$GEO_INF\"\n",
        "\n",
        "# Vérifier si le script GEE a réussi\n",
        "if [ $? -ne 0 ]; then\n",
        "  echo \"GEE script failed. Exiting...\"\n",
        "  exit 1\n",
        "fi\n",
        "\n",
        "echo \"All images have been successfully exported from GEE!\""
      ],
      "metadata": {
        "colab": {
          "base_uri": "https://localhost:8080/"
        },
        "id": "Ca6vElQ7Z1Tr",
        "outputId": "6b3d5eee-c379-47f0-a483-7e8881544fe3"
      },
      "execution_count": 6,
      "outputs": [
        {
          "output_type": "stream",
          "name": "stdout",
          "text": [
            "Running the GEE export process...\n",
            "Exporting Greece_2022-06-01...\n",
            "Export of Greece_2022-06-01 completed.\n",
            "Pre-process completed for 2022-06-01\n",
            "Exporting Greece_2024-06-01...\n",
            "Export of Greece_2024-06-01 completed.\n",
            "Pre-process completed for 2024-06-01\n",
            "DEVICE:  cuda:0 NVIDIA L4\n",
            "Number of the model :  2\n",
            "Training statistics loaded successfully:\n",
            "train_input_mean: [ 1.7249045e+02  2.1719879e+02  3.0656104e+02  3.8471408e+02\n",
            "  4.9144901e+02  6.6224811e+02  8.6727655e+02  9.2740576e+02\n",
            "  9.9507318e+02  9.5948553e+02  8.2007733e+02  6.4042609e+02\n",
            "  6.1001692e+00 -1.1157603e-02  8.8593937e-02]\n",
            "train_input_std: [4.3942572e+02 4.9881580e+02 6.0036780e+02 7.5097937e+02 8.9678149e+02\n",
            " 1.4208789e+03 1.6246718e+03 1.6761521e+03 1.7308650e+03 1.7111084e+03\n",
            " 1.5522928e+03 1.2074014e+03 2.0392551e+01 3.8564864e-01 3.6751011e-01]\n",
            "train_target_mean: [12.195409]\n",
            "train_target_std: [11.241926]\n",
            "DEPLOY_IMAGE_PATH: /content/drive/MyDrive/GCHM_geo_inferences/DATASET_GEE_TIF\n",
            "Contenu du dossier : ['Greece_2024-06-01.tif', 'Greece_2022-06-01.tif']\n",
            "['/content/drive/MyDrive/GCHM_geo_inferences/DATASET_GEE_TIF/Greece_2024-06-01.tif', '/content/drive/MyDrive/GCHM_geo_inferences/DATASET_GEE_TIF/Greece_2022-06-01.tif']\n",
            "{'model_dir': '/content/drive/MyDrive/GCHM_geo_inferences/trained_models/GLOBAL_GEDI_2019_2020/model_2/FT_Lm_SRCB', 'deploy_image_path': '/content/drive/MyDrive/GCHM_geo_inferences/DATASET_GEE_TIF', 'deploy_dir': '/content/drive/MyDrive/GCHM_geo_inferences/Predictions', 'filepath_failed_image_paths': '', 'deploy_patch_size': 64, 'deploy_batch_size': 2, 'num_workers_deploy': 4, 'num_models': 5, 'save_latlon_masks': False, 'remove_image_after_pred': False, 'sentinel2_dir': '', 'finetune_strategy': 'FT_Lm_SRCB', 'model_id': 2, 'channels': 12, 'return_variance': True, 'input_lat_lon': True, 'manual_init': False, 'freeze_last_mean': False, 'freeze_last_var': False, 'geo_shift': False, 'geo_scale': False, 'separate_lat_lon': True}\n",
            "Loading args from trained models directory...\n",
            "Processing image: /content/drive/MyDrive/GCHM_geo_inferences/DATASET_GEE_TIF/Greece_2024-06-01.tif\n",
            "Image date extracted: 2024-06-01\n",
            "sorting bands...\n",
            "{'projection': 'GEOGCS[\"WGS 84\",DATUM[\"WGS_1984\",SPHEROID[\"WGS 84\",6378137,298.257223563,AUTHORITY[\"EPSG\",\"7030\"]],AUTHORITY[\"EPSG\",\"6326\"]],PRIMEM[\"Greenwich\",0,AUTHORITY[\"EPSG\",\"8901\"]],UNIT[\"degree\",0.0174532925199433,AUTHORITY[\"EPSG\",\"9122\"]],AXIS[\"Latitude\",NORTH],AXIS[\"Longitude\",EAST],AUTHORITY[\"EPSG\",\"4326\"]]', 'geotransform': [21.576005988567903, 8.983152841195215e-05, 0, 39.69673206829848, 0, -8.983152841195215e-05], 'width': 178, 'height': 139, 'bounds': BoundingBox(left=21.576005988567903, bottom=39.68424548584922, right=21.59199600062523, top=39.69673206829848)}\n",
            "img_rows, img_cols: 155 194\n",
            "number of patches:  1\n",
            "lat_mask.shape:  (139, 178)\n",
            "lon_mask.shape:  (139, 178)\n",
            "self.image_shape_original:  (139, 178, 12)\n",
            "after padding: self.image.shape:  (155, 194, 12)\n",
            "after padding: self.lat_mask.shape:  (155, 194)\n",
            "after padding: self.lon_mask.shape:  (155, 194)\n",
            "Loading architecture:  xceptionS2_08blocks_256\n",
            "Freezing feature extractor... args.freeze_features=True\n",
            "Unfreeze last layer (mean regressor)... args.freeze_last_mean=False\n",
            "Loading model weights from latest checkpoint ...\n",
            "\rpred:   0%|                                                                   | 0/1 [00:00<?, ?it/s]\rpred: 100%|███████████████████████████████████████████████████████████| 1/1 [00:00<00:00,  2.56it/s]\rpred: 100%|███████████████████████████████████████████████████████████| 1/1 [00:00<00:00,  2.46it/s]\n",
            "val_dict['predictions'].shape:  torch.Size([1, 1, 155, 194])\n",
            "val_dict['std'].shape:  torch.Size([1, 1, 155, 194])\n",
            "self.image.shape (155, 194, 12)\n",
            "invalid_mask.shape (139, 178)\n",
            "number of empty pixels: 0\n",
            "Unique values in DLC mask for 2024-06-01: [(0,) (1,)]\n",
            "Shape of recomposed_tiles:  (139, 178)\n",
            "Shape of dlc_mask:  (139, 178)\n",
            "Saving to: /content/drive/MyDrive/GCHM_geo_inferences/Predictions/Greece_2024-06-01_predictions.tif\n",
            "self.image.shape (155, 194, 12)\n",
            "invalid_mask.shape (139, 178)\n",
            "number of empty pixels: 0\n",
            "Unique values in DLC mask for 2024-06-01: [(0,) (1,)]\n",
            "Shape of recomposed_tiles:  (139, 178)\n",
            "Shape of dlc_mask:  (139, 178)\n",
            "Saving to: /content/drive/MyDrive/GCHM_geo_inferences/Predictions/Greece_2024-06-01_std.tif\n",
            "Processing image: /content/drive/MyDrive/GCHM_geo_inferences/DATASET_GEE_TIF/Greece_2022-06-01.tif\n",
            "Image date extracted: 2022-06-01\n",
            "sorting bands...\n",
            "{'projection': 'GEOGCS[\"WGS 84\",DATUM[\"WGS_1984\",SPHEROID[\"WGS 84\",6378137,298.257223563,AUTHORITY[\"EPSG\",\"7030\"]],AUTHORITY[\"EPSG\",\"6326\"]],PRIMEM[\"Greenwich\",0,AUTHORITY[\"EPSG\",\"8901\"]],UNIT[\"degree\",0.0174532925199433,AUTHORITY[\"EPSG\",\"9122\"]],AXIS[\"Latitude\",NORTH],AXIS[\"Longitude\",EAST],AUTHORITY[\"EPSG\",\"4326\"]]', 'geotransform': [21.576005988567903, 8.983152841195215e-05, 0, 39.69673206829848, 0, -8.983152841195215e-05], 'width': 178, 'height': 139, 'bounds': BoundingBox(left=21.576005988567903, bottom=39.68424548584922, right=21.59199600062523, top=39.69673206829848)}\n",
            "img_rows, img_cols: 155 194\n",
            "number of patches:  1\n",
            "lat_mask.shape:  (139, 178)\n",
            "lon_mask.shape:  (139, 178)\n",
            "self.image_shape_original:  (139, 178, 12)\n",
            "after padding: self.image.shape:  (155, 194, 12)\n",
            "after padding: self.lat_mask.shape:  (155, 194)\n",
            "after padding: self.lon_mask.shape:  (155, 194)\n",
            "Loading architecture:  xceptionS2_08blocks_256\n",
            "Freezing feature extractor... args.freeze_features=True\n",
            "Unfreeze last layer (mean regressor)... args.freeze_last_mean=False\n",
            "Loading model weights from latest checkpoint ...\n",
            "\rpred:   0%|                                                                   | 0/1 [00:00<?, ?it/s]\rpred: 100%|███████████████████████████████████████████████████████████| 1/1 [00:00<00:00,  9.02it/s]\n",
            "val_dict['predictions'].shape:  torch.Size([1, 1, 155, 194])\n",
            "val_dict['std'].shape:  torch.Size([1, 1, 155, 194])\n",
            "self.image.shape (155, 194, 12)\n",
            "invalid_mask.shape (139, 178)\n",
            "number of empty pixels: 0\n",
            "Unique values in DLC mask for 2022-06-01: [(0,)]\n",
            "Shape of recomposed_tiles:  (139, 178)\n",
            "Shape of dlc_mask:  (139, 178)\n",
            "Saving to: /content/drive/MyDrive/GCHM_geo_inferences/Predictions/Greece_2022-06-01_predictions.tif\n",
            "self.image.shape (155, 194, 12)\n",
            "invalid_mask.shape (139, 178)\n",
            "number of empty pixels: 0\n",
            "Unique values in DLC mask for 2022-06-01: [(0,)]\n",
            "Shape of recomposed_tiles:  (139, 178)\n",
            "Shape of dlc_mask:  (139, 178)\n",
            "Saving to: /content/drive/MyDrive/GCHM_geo_inferences/Predictions/Greece_2022-06-01_std.tif\n",
            "All images have been successfully exported from GEE!\n"
          ]
        },
        {
          "output_type": "stream",
          "name": "stderr",
          "text": [
            "/content/drive/MyDrive/GCHM_geo_inferences/gchm/geo_inferences.py:169: FutureWarning: You are using `torch.load` with `weights_only=False` (the current default value), which uses the default pickle module implicitly. It is possible to construct malicious pickle data which will execute arbitrary code during unpickling (See https://github.com/pytorch/pytorch/blob/main/SECURITY.md#untrusted-models for more details). In a future release, the default value for `weights_only` will be flipped to `True`. This limits the functions that could be executed during unpickling. Arbitrary objects will no longer be allowed to be loaded via this mode unless they are explicitly allowlisted by the user via `torch.serialization.add_safe_globals`. We recommend you start setting `weights_only=True` for any use case where you don't have full control of the loaded file. Please open an issue on GitHub for any issues related to this experimental feature.\n",
            "  checkpoint = torch.load(checkpoint_path)\n"
          ]
        }
      ]
    }
  ]
}